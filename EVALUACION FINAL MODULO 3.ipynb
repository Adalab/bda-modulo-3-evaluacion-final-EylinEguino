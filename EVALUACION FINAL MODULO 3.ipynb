{
 "cells": [
  {
   "cell_type": "markdown",
   "id": "fbf58cac",
   "metadata": {},
   "source": [
    "## EJERCICIO TÉCNICO - MÓDULO 3"
   ]
  },
  {
   "cell_type": "code",
   "execution_count": 8,
   "id": "3461f6d0",
   "metadata": {},
   "outputs": [],
   "source": [
    "# Importamos las librerias necesarias para el ejercicio\n",
    "# Tratamiento de datos\n",
    "# -----------------------------------------------------------------------\n",
    "import pandas as pd\n",
    "import numpy as np\n",
    "import re\n",
    "\n",
    "# Librerías de visualización\n",
    "# -----------------------------------------------------------------------\n",
    "import seaborn as sns\n",
    "import matplotlib.pyplot as plt\n",
    "\n",
    "# Configuración\n",
    "# -----------------------------------------------------------------------\n",
    "pd.set_option('display.max_columns', None) # para poder visualizar todas las columnas de los DataFrames\n",
    "pd.set_option('display.max_rows', None) # ver todas las filas de los DataFrames"
   ]
  },
  {
   "cell_type": "markdown",
   "id": "c274c55f",
   "metadata": {},
   "source": [
    "nota: No se importaron librerias avanzadas de imputación en este caso debido a que la naturaleza de las columnas con datos nulos del dataset no lo requieren."
   ]
  },
  {
   "cell_type": "code",
   "execution_count": 9,
   "id": "714a7071",
   "metadata": {},
   "outputs": [],
   "source": [
    "# Cargamos los archivos csv\n",
    "df_flight = pd.read_csv('Customer Flight Activity.csv')\n",
    "df_loyalty = pd.read_csv('Customer Loyalty History.csv')"
   ]
  },
  {
   "cell_type": "markdown",
   "id": "ecd7e58f",
   "metadata": {},
   "source": [
    "## Fase 1: Exploración y Limpieza"
   ]
  },
  {
   "cell_type": "markdown",
   "id": "bcbac08d",
   "metadata": {},
   "source": [
    "### 1.1. Exploración Inicial:"
   ]
  },
  {
   "cell_type": "code",
   "execution_count": 11,
   "id": "8f298e0e",
   "metadata": {},
   "outputs": [],
   "source": [
    "# FUNCION EDA BASICO\n",
    "def eda_basico(df):\n",
    "\n",
    "    print('🌷Ejemplo de datos del DF:')\n",
    "    display(df.head(3))\n",
    "    display(df.tail(3))\n",
    "    display(df.sample(3))\n",
    "    print('________________________________________________________________________________________________________')\n",
    "\n",
    "    print('🌻Número de Filas:')\n",
    "    display(df.shape[0])\n",
    "    print('________________________________________________________________________________________________________')\n",
    "\n",
    "    print('🌱Número de Columnas:')\n",
    "    display(df.shape[1])\n",
    "    print('________________________________________________________________________________________________________')\n",
    "\n",
    "    print('🌼Información de la tabla:')\n",
    "    display(df.info())\n",
    "    print('________________________________________________________________________________________________________')\n",
    "\n",
    "    print('🌑Nombre de las columnas:')\n",
    "    display(df.columns)\n",
    "    print('________________________________________________________________________________________________________')\n",
    "\n",
    "    print('🍄Descripción de los datos numéricos:')\n",
    "    display(df.describe().T)\n",
    "    print('________________________________________________________________________________________________________')\n",
    "\n",
    "    print('🌋Descripción de los datos no-numéricos:')\n",
    "    cols_text = df.select_dtypes(include=['object', 'string']).columns\n",
    "    if len(cols_text) > 0:\n",
    "        print(f'Columnas categóricas detectadas: {list(cols_text)}')\n",
    "        display(df.describe(include=['object', 'string']).T)\n",
    "    else:\n",
    "        print('⚠️ No hay columnas no-numéricas (tipo object o string) en el DataFrame.')\n",
    "    print('________________________________________________________________________________________________________')\n",
    "\n",
    "    print('🍂Saber si hay datos únicos:')\n",
    "    display(df.nunique())\n",
    "    print('________________________________________________________________________________________________________')\n",
    "\n",
    "    print('🐖Qué datos son nulos por columnas:')\n",
    "    display(df.isnull().sum())\n",
    "    print('________________________________________________________________________________________________________')\n",
    "\n",
    "    print('🐲Filas duplicadas:')\n",
    "    total_duplicados = df.duplicated().sum()\n",
    "    if total_duplicados > 0:\n",
    "        print(f'Cantidad de duplicados: {total_duplicados}')\n",
    "        print('Primeros duplicados:')\n",
    "        display(df[df.duplicated()].head(3))\n",
    "    else:\n",
    "        print('No hay duplicados')\n",
    "    print('________________________________________________________________________________________________________')\n",
    "\n",
    "    print('🪹 Columnas constantes (solo 1 valor único):')\n",
    "    constantes = df.columns[df.nunique() <= 1]\n",
    "    if len(constantes) > 0:\n",
    "        print(f'{len(constantes)} columnas con 1 valor único:')\n",
    "        display(constantes)\n",
    "    else:\n",
    "        print('No hay columnas constantes')\n",
    "    print('________________________________________________________________________________________________________')\n",
    "\n",
    "    print('🚀 Valores únicos en columnas categóricas:')\n",
    "    for col in df.select_dtypes(include=['object', 'string']):\n",
    "        print(f'🔸 {col}')\n",
    "        print('-----------------------------')\n",
    "        print(df[col].unique())\n",
    "        print('________________________________________________________________________________________________________')\n",
    "\n",
    "    print('🧬 Tipos de datos por columna:')\n",
    "    display(df.dtypes.value_counts())\n",
    "    print('________________________________________________________________________________________________________')\n"
   ]
  },
  {
   "cell_type": "markdown",
   "id": "aa7e27a2",
   "metadata": {},
   "source": [
    "#### EXPLORACIÓN INICIAL DE df_flight "
   ]
  },
  {
   "cell_type": "code",
   "execution_count": 12,
   "id": "5ff0164a",
   "metadata": {},
   "outputs": [
    {
     "name": "stdout",
     "output_type": "stream",
     "text": [
      "🌷Ejemplo de datos del DF:\n"
     ]
    },
    {
     "data": {
      "application/vnd.microsoft.datawrangler.viewer.v0+json": {
       "columns": [
        {
         "name": "index",
         "rawType": "int64",
         "type": "integer"
        },
        {
         "name": "Loyalty Number",
         "rawType": "int64",
         "type": "integer"
        },
        {
         "name": "Year",
         "rawType": "int64",
         "type": "integer"
        },
        {
         "name": "Month",
         "rawType": "int64",
         "type": "integer"
        },
        {
         "name": "Flights Booked",
         "rawType": "int64",
         "type": "integer"
        },
        {
         "name": "Flights with Companions",
         "rawType": "int64",
         "type": "integer"
        },
        {
         "name": "Total Flights",
         "rawType": "int64",
         "type": "integer"
        },
        {
         "name": "Distance",
         "rawType": "int64",
         "type": "integer"
        },
        {
         "name": "Points Accumulated",
         "rawType": "float64",
         "type": "float"
        },
        {
         "name": "Points Redeemed",
         "rawType": "int64",
         "type": "integer"
        },
        {
         "name": "Dollar Cost Points Redeemed",
         "rawType": "int64",
         "type": "integer"
        }
       ],
       "ref": "58642778-6917-4244-ae16-27bbba69fcf8",
       "rows": [
        [
         "0",
         "100018",
         "2017",
         "1",
         "3",
         "0",
         "3",
         "1521",
         "152.0",
         "0",
         "0"
        ],
        [
         "1",
         "100102",
         "2017",
         "1",
         "10",
         "4",
         "14",
         "2030",
         "203.0",
         "0",
         "0"
        ],
        [
         "2",
         "100140",
         "2017",
         "1",
         "6",
         "0",
         "6",
         "1200",
         "120.0",
         "0",
         "0"
        ]
       ],
       "shape": {
        "columns": 10,
        "rows": 3
       }
      },
      "text/html": [
       "<div>\n",
       "<style scoped>\n",
       "    .dataframe tbody tr th:only-of-type {\n",
       "        vertical-align: middle;\n",
       "    }\n",
       "\n",
       "    .dataframe tbody tr th {\n",
       "        vertical-align: top;\n",
       "    }\n",
       "\n",
       "    .dataframe thead th {\n",
       "        text-align: right;\n",
       "    }\n",
       "</style>\n",
       "<table border=\"1\" class=\"dataframe\">\n",
       "  <thead>\n",
       "    <tr style=\"text-align: right;\">\n",
       "      <th></th>\n",
       "      <th>Loyalty Number</th>\n",
       "      <th>Year</th>\n",
       "      <th>Month</th>\n",
       "      <th>Flights Booked</th>\n",
       "      <th>Flights with Companions</th>\n",
       "      <th>Total Flights</th>\n",
       "      <th>Distance</th>\n",
       "      <th>Points Accumulated</th>\n",
       "      <th>Points Redeemed</th>\n",
       "      <th>Dollar Cost Points Redeemed</th>\n",
       "    </tr>\n",
       "  </thead>\n",
       "  <tbody>\n",
       "    <tr>\n",
       "      <th>0</th>\n",
       "      <td>100018</td>\n",
       "      <td>2017</td>\n",
       "      <td>1</td>\n",
       "      <td>3</td>\n",
       "      <td>0</td>\n",
       "      <td>3</td>\n",
       "      <td>1521</td>\n",
       "      <td>152.0</td>\n",
       "      <td>0</td>\n",
       "      <td>0</td>\n",
       "    </tr>\n",
       "    <tr>\n",
       "      <th>1</th>\n",
       "      <td>100102</td>\n",
       "      <td>2017</td>\n",
       "      <td>1</td>\n",
       "      <td>10</td>\n",
       "      <td>4</td>\n",
       "      <td>14</td>\n",
       "      <td>2030</td>\n",
       "      <td>203.0</td>\n",
       "      <td>0</td>\n",
       "      <td>0</td>\n",
       "    </tr>\n",
       "    <tr>\n",
       "      <th>2</th>\n",
       "      <td>100140</td>\n",
       "      <td>2017</td>\n",
       "      <td>1</td>\n",
       "      <td>6</td>\n",
       "      <td>0</td>\n",
       "      <td>6</td>\n",
       "      <td>1200</td>\n",
       "      <td>120.0</td>\n",
       "      <td>0</td>\n",
       "      <td>0</td>\n",
       "    </tr>\n",
       "  </tbody>\n",
       "</table>\n",
       "</div>"
      ],
      "text/plain": [
       "   Loyalty Number  Year  Month  Flights Booked  Flights with Companions  \\\n",
       "0          100018  2017      1               3                        0   \n",
       "1          100102  2017      1              10                        4   \n",
       "2          100140  2017      1               6                        0   \n",
       "\n",
       "   Total Flights  Distance  Points Accumulated  Points Redeemed  \\\n",
       "0              3      1521               152.0                0   \n",
       "1             14      2030               203.0                0   \n",
       "2              6      1200               120.0                0   \n",
       "\n",
       "   Dollar Cost Points Redeemed  \n",
       "0                            0  \n",
       "1                            0  \n",
       "2                            0  "
      ]
     },
     "metadata": {},
     "output_type": "display_data"
    },
    {
     "data": {
      "application/vnd.microsoft.datawrangler.viewer.v0+json": {
       "columns": [
        {
         "name": "index",
         "rawType": "int64",
         "type": "integer"
        },
        {
         "name": "Loyalty Number",
         "rawType": "int64",
         "type": "integer"
        },
        {
         "name": "Year",
         "rawType": "int64",
         "type": "integer"
        },
        {
         "name": "Month",
         "rawType": "int64",
         "type": "integer"
        },
        {
         "name": "Flights Booked",
         "rawType": "int64",
         "type": "integer"
        },
        {
         "name": "Flights with Companions",
         "rawType": "int64",
         "type": "integer"
        },
        {
         "name": "Total Flights",
         "rawType": "int64",
         "type": "integer"
        },
        {
         "name": "Distance",
         "rawType": "int64",
         "type": "integer"
        },
        {
         "name": "Points Accumulated",
         "rawType": "float64",
         "type": "float"
        },
        {
         "name": "Points Redeemed",
         "rawType": "int64",
         "type": "integer"
        },
        {
         "name": "Dollar Cost Points Redeemed",
         "rawType": "int64",
         "type": "integer"
        }
       ],
       "ref": "79ca108c-1fb9-4f73-9884-a2c32c7477ac",
       "rows": [
        [
         "405621",
         "999940",
         "2018",
         "12",
         "3",
         "0",
         "3",
         "1233",
         "123.0",
         "0",
         "0"
        ],
        [
         "405622",
         "999982",
         "2018",
         "12",
         "0",
         "0",
         "0",
         "0",
         "0.0",
         "0",
         "0"
        ],
        [
         "405623",
         "999986",
         "2018",
         "12",
         "0",
         "0",
         "0",
         "0",
         "0.0",
         "0",
         "0"
        ]
       ],
       "shape": {
        "columns": 10,
        "rows": 3
       }
      },
      "text/html": [
       "<div>\n",
       "<style scoped>\n",
       "    .dataframe tbody tr th:only-of-type {\n",
       "        vertical-align: middle;\n",
       "    }\n",
       "\n",
       "    .dataframe tbody tr th {\n",
       "        vertical-align: top;\n",
       "    }\n",
       "\n",
       "    .dataframe thead th {\n",
       "        text-align: right;\n",
       "    }\n",
       "</style>\n",
       "<table border=\"1\" class=\"dataframe\">\n",
       "  <thead>\n",
       "    <tr style=\"text-align: right;\">\n",
       "      <th></th>\n",
       "      <th>Loyalty Number</th>\n",
       "      <th>Year</th>\n",
       "      <th>Month</th>\n",
       "      <th>Flights Booked</th>\n",
       "      <th>Flights with Companions</th>\n",
       "      <th>Total Flights</th>\n",
       "      <th>Distance</th>\n",
       "      <th>Points Accumulated</th>\n",
       "      <th>Points Redeemed</th>\n",
       "      <th>Dollar Cost Points Redeemed</th>\n",
       "    </tr>\n",
       "  </thead>\n",
       "  <tbody>\n",
       "    <tr>\n",
       "      <th>405621</th>\n",
       "      <td>999940</td>\n",
       "      <td>2018</td>\n",
       "      <td>12</td>\n",
       "      <td>3</td>\n",
       "      <td>0</td>\n",
       "      <td>3</td>\n",
       "      <td>1233</td>\n",
       "      <td>123.0</td>\n",
       "      <td>0</td>\n",
       "      <td>0</td>\n",
       "    </tr>\n",
       "    <tr>\n",
       "      <th>405622</th>\n",
       "      <td>999982</td>\n",
       "      <td>2018</td>\n",
       "      <td>12</td>\n",
       "      <td>0</td>\n",
       "      <td>0</td>\n",
       "      <td>0</td>\n",
       "      <td>0</td>\n",
       "      <td>0.0</td>\n",
       "      <td>0</td>\n",
       "      <td>0</td>\n",
       "    </tr>\n",
       "    <tr>\n",
       "      <th>405623</th>\n",
       "      <td>999986</td>\n",
       "      <td>2018</td>\n",
       "      <td>12</td>\n",
       "      <td>0</td>\n",
       "      <td>0</td>\n",
       "      <td>0</td>\n",
       "      <td>0</td>\n",
       "      <td>0.0</td>\n",
       "      <td>0</td>\n",
       "      <td>0</td>\n",
       "    </tr>\n",
       "  </tbody>\n",
       "</table>\n",
       "</div>"
      ],
      "text/plain": [
       "        Loyalty Number  Year  Month  Flights Booked  Flights with Companions  \\\n",
       "405621          999940  2018     12               3                        0   \n",
       "405622          999982  2018     12               0                        0   \n",
       "405623          999986  2018     12               0                        0   \n",
       "\n",
       "        Total Flights  Distance  Points Accumulated  Points Redeemed  \\\n",
       "405621              3      1233               123.0                0   \n",
       "405622              0         0                 0.0                0   \n",
       "405623              0         0                 0.0                0   \n",
       "\n",
       "        Dollar Cost Points Redeemed  \n",
       "405621                            0  \n",
       "405622                            0  \n",
       "405623                            0  "
      ]
     },
     "metadata": {},
     "output_type": "display_data"
    },
    {
     "data": {
      "application/vnd.microsoft.datawrangler.viewer.v0+json": {
       "columns": [
        {
         "name": "index",
         "rawType": "int64",
         "type": "integer"
        },
        {
         "name": "Loyalty Number",
         "rawType": "int64",
         "type": "integer"
        },
        {
         "name": "Year",
         "rawType": "int64",
         "type": "integer"
        },
        {
         "name": "Month",
         "rawType": "int64",
         "type": "integer"
        },
        {
         "name": "Flights Booked",
         "rawType": "int64",
         "type": "integer"
        },
        {
         "name": "Flights with Companions",
         "rawType": "int64",
         "type": "integer"
        },
        {
         "name": "Total Flights",
         "rawType": "int64",
         "type": "integer"
        },
        {
         "name": "Distance",
         "rawType": "int64",
         "type": "integer"
        },
        {
         "name": "Points Accumulated",
         "rawType": "float64",
         "type": "float"
        },
        {
         "name": "Points Redeemed",
         "rawType": "int64",
         "type": "integer"
        },
        {
         "name": "Dollar Cost Points Redeemed",
         "rawType": "int64",
         "type": "integer"
        }
       ],
       "ref": "2ea3e168-90be-4401-8db3-9845d95c31c6",
       "rows": [
        [
         "119274",
         "152338",
         "2017",
         "8",
         "1",
         "1",
         "2",
         "1982",
         "198.0",
         "0",
         "0"
        ],
        [
         "34118",
         "116999",
         "2017",
         "3",
         "0",
         "0",
         "0",
         "0",
         "0.0",
         "0",
         "0"
        ],
        [
         "367855",
         "503257",
         "2018",
         "8",
         "6",
         "6",
         "12",
         "1320",
         "132.0",
         "731",
         "59"
        ]
       ],
       "shape": {
        "columns": 10,
        "rows": 3
       }
      },
      "text/html": [
       "<div>\n",
       "<style scoped>\n",
       "    .dataframe tbody tr th:only-of-type {\n",
       "        vertical-align: middle;\n",
       "    }\n",
       "\n",
       "    .dataframe tbody tr th {\n",
       "        vertical-align: top;\n",
       "    }\n",
       "\n",
       "    .dataframe thead th {\n",
       "        text-align: right;\n",
       "    }\n",
       "</style>\n",
       "<table border=\"1\" class=\"dataframe\">\n",
       "  <thead>\n",
       "    <tr style=\"text-align: right;\">\n",
       "      <th></th>\n",
       "      <th>Loyalty Number</th>\n",
       "      <th>Year</th>\n",
       "      <th>Month</th>\n",
       "      <th>Flights Booked</th>\n",
       "      <th>Flights with Companions</th>\n",
       "      <th>Total Flights</th>\n",
       "      <th>Distance</th>\n",
       "      <th>Points Accumulated</th>\n",
       "      <th>Points Redeemed</th>\n",
       "      <th>Dollar Cost Points Redeemed</th>\n",
       "    </tr>\n",
       "  </thead>\n",
       "  <tbody>\n",
       "    <tr>\n",
       "      <th>119274</th>\n",
       "      <td>152338</td>\n",
       "      <td>2017</td>\n",
       "      <td>8</td>\n",
       "      <td>1</td>\n",
       "      <td>1</td>\n",
       "      <td>2</td>\n",
       "      <td>1982</td>\n",
       "      <td>198.0</td>\n",
       "      <td>0</td>\n",
       "      <td>0</td>\n",
       "    </tr>\n",
       "    <tr>\n",
       "      <th>34118</th>\n",
       "      <td>116999</td>\n",
       "      <td>2017</td>\n",
       "      <td>3</td>\n",
       "      <td>0</td>\n",
       "      <td>0</td>\n",
       "      <td>0</td>\n",
       "      <td>0</td>\n",
       "      <td>0.0</td>\n",
       "      <td>0</td>\n",
       "      <td>0</td>\n",
       "    </tr>\n",
       "    <tr>\n",
       "      <th>367855</th>\n",
       "      <td>503257</td>\n",
       "      <td>2018</td>\n",
       "      <td>8</td>\n",
       "      <td>6</td>\n",
       "      <td>6</td>\n",
       "      <td>12</td>\n",
       "      <td>1320</td>\n",
       "      <td>132.0</td>\n",
       "      <td>731</td>\n",
       "      <td>59</td>\n",
       "    </tr>\n",
       "  </tbody>\n",
       "</table>\n",
       "</div>"
      ],
      "text/plain": [
       "        Loyalty Number  Year  Month  Flights Booked  Flights with Companions  \\\n",
       "119274          152338  2017      8               1                        1   \n",
       "34118           116999  2017      3               0                        0   \n",
       "367855          503257  2018      8               6                        6   \n",
       "\n",
       "        Total Flights  Distance  Points Accumulated  Points Redeemed  \\\n",
       "119274              2      1982               198.0                0   \n",
       "34118               0         0                 0.0                0   \n",
       "367855             12      1320               132.0              731   \n",
       "\n",
       "        Dollar Cost Points Redeemed  \n",
       "119274                            0  \n",
       "34118                             0  \n",
       "367855                           59  "
      ]
     },
     "metadata": {},
     "output_type": "display_data"
    },
    {
     "name": "stdout",
     "output_type": "stream",
     "text": [
      "________________________________________________________________________________________________________\n",
      "🌻Número de Filas:\n"
     ]
    },
    {
     "data": {
      "text/plain": [
       "405624"
      ]
     },
     "metadata": {},
     "output_type": "display_data"
    },
    {
     "name": "stdout",
     "output_type": "stream",
     "text": [
      "________________________________________________________________________________________________________\n",
      "🌱Número de Columnas:\n"
     ]
    },
    {
     "data": {
      "text/plain": [
       "10"
      ]
     },
     "metadata": {},
     "output_type": "display_data"
    },
    {
     "name": "stdout",
     "output_type": "stream",
     "text": [
      "________________________________________________________________________________________________________\n",
      "🌼Información de la tabla:\n",
      "<class 'pandas.core.frame.DataFrame'>\n",
      "RangeIndex: 405624 entries, 0 to 405623\n",
      "Data columns (total 10 columns):\n",
      " #   Column                       Non-Null Count   Dtype  \n",
      "---  ------                       --------------   -----  \n",
      " 0   Loyalty Number               405624 non-null  int64  \n",
      " 1   Year                         405624 non-null  int64  \n",
      " 2   Month                        405624 non-null  int64  \n",
      " 3   Flights Booked               405624 non-null  int64  \n",
      " 4   Flights with Companions      405624 non-null  int64  \n",
      " 5   Total Flights                405624 non-null  int64  \n",
      " 6   Distance                     405624 non-null  int64  \n",
      " 7   Points Accumulated           405624 non-null  float64\n",
      " 8   Points Redeemed              405624 non-null  int64  \n",
      " 9   Dollar Cost Points Redeemed  405624 non-null  int64  \n",
      "dtypes: float64(1), int64(9)\n",
      "memory usage: 30.9 MB\n"
     ]
    },
    {
     "data": {
      "text/plain": [
       "None"
      ]
     },
     "metadata": {},
     "output_type": "display_data"
    },
    {
     "name": "stdout",
     "output_type": "stream",
     "text": [
      "________________________________________________________________________________________________________\n",
      "🌑Nombre de las columnas:\n"
     ]
    },
    {
     "data": {
      "text/plain": [
       "Index(['Loyalty Number', 'Year', 'Month', 'Flights Booked',\n",
       "       'Flights with Companions', 'Total Flights', 'Distance',\n",
       "       'Points Accumulated', 'Points Redeemed', 'Dollar Cost Points Redeemed'],\n",
       "      dtype='object')"
      ]
     },
     "metadata": {},
     "output_type": "display_data"
    },
    {
     "name": "stdout",
     "output_type": "stream",
     "text": [
      "________________________________________________________________________________________________________\n",
      "🍄Descripción de los datos numéricos:\n"
     ]
    },
    {
     "data": {
      "application/vnd.microsoft.datawrangler.viewer.v0+json": {
       "columns": [
        {
         "name": "index",
         "rawType": "object",
         "type": "string"
        },
        {
         "name": "count",
         "rawType": "float64",
         "type": "float"
        },
        {
         "name": "mean",
         "rawType": "float64",
         "type": "float"
        },
        {
         "name": "std",
         "rawType": "float64",
         "type": "float"
        },
        {
         "name": "min",
         "rawType": "float64",
         "type": "float"
        },
        {
         "name": "25%",
         "rawType": "float64",
         "type": "float"
        },
        {
         "name": "50%",
         "rawType": "float64",
         "type": "float"
        },
        {
         "name": "75%",
         "rawType": "float64",
         "type": "float"
        },
        {
         "name": "max",
         "rawType": "float64",
         "type": "float"
        }
       ],
       "ref": "663e7e8f-30aa-4460-aa3f-c92f276eb715",
       "rows": [
        [
         "Loyalty Number",
         "405624.0",
         "550037.8730844329",
         "258935.2869685367",
         "100018.0",
         "326961.0",
         "550834.0",
         "772194.0",
         "999986.0"
        ],
        [
         "Year",
         "405624.0",
         "2017.5",
         "0.5000006163354788",
         "2017.0",
         "2017.0",
         "2017.5",
         "2018.0",
         "2018.0"
        ],
        [
         "Month",
         "405624.0",
         "6.5",
         "3.4520567847795607",
         "1.0",
         "3.75",
         "6.5",
         "9.25",
         "12.0"
        ],
        [
         "Flights Booked",
         "405624.0",
         "4.115052363765457",
         "5.225518362148539",
         "0.0",
         "0.0",
         "1.0",
         "8.0",
         "21.0"
        ],
        [
         "Flights with Companions",
         "405624.0",
         "1.031805317239611",
         "2.0768693438669175",
         "0.0",
         "0.0",
         "0.0",
         "1.0",
         "11.0"
        ],
        [
         "Total Flights",
         "405624.0",
         "5.146857681005069",
         "6.521227424260422",
         "0.0",
         "0.0",
         "1.0",
         "10.0",
         "32.0"
        ],
        [
         "Distance",
         "405624.0",
         "1208.880058872256",
         "1433.1553197945339",
         "0.0",
         "0.0",
         "488.0",
         "2336.0",
         "6293.0"
        ],
        [
         "Points Accumulated",
         "405624.0",
         "123.69272096818729",
         "146.59983145499055",
         "0.0",
         "0.0",
         "50.0",
         "239.0",
         "676.5"
        ],
        [
         "Points Redeemed",
         "405624.0",
         "30.696871979961738",
         "125.48604931787136",
         "0.0",
         "0.0",
         "0.0",
         "0.0",
         "876.0"
        ],
        [
         "Dollar Cost Points Redeemed",
         "405624.0",
         "2.484502889375382",
         "10.150037777694218",
         "0.0",
         "0.0",
         "0.0",
         "0.0",
         "71.0"
        ]
       ],
       "shape": {
        "columns": 8,
        "rows": 10
       }
      },
      "text/html": [
       "<div>\n",
       "<style scoped>\n",
       "    .dataframe tbody tr th:only-of-type {\n",
       "        vertical-align: middle;\n",
       "    }\n",
       "\n",
       "    .dataframe tbody tr th {\n",
       "        vertical-align: top;\n",
       "    }\n",
       "\n",
       "    .dataframe thead th {\n",
       "        text-align: right;\n",
       "    }\n",
       "</style>\n",
       "<table border=\"1\" class=\"dataframe\">\n",
       "  <thead>\n",
       "    <tr style=\"text-align: right;\">\n",
       "      <th></th>\n",
       "      <th>count</th>\n",
       "      <th>mean</th>\n",
       "      <th>std</th>\n",
       "      <th>min</th>\n",
       "      <th>25%</th>\n",
       "      <th>50%</th>\n",
       "      <th>75%</th>\n",
       "      <th>max</th>\n",
       "    </tr>\n",
       "  </thead>\n",
       "  <tbody>\n",
       "    <tr>\n",
       "      <th>Loyalty Number</th>\n",
       "      <td>405624.0</td>\n",
       "      <td>550037.873084</td>\n",
       "      <td>258935.286969</td>\n",
       "      <td>100018.0</td>\n",
       "      <td>326961.00</td>\n",
       "      <td>550834.0</td>\n",
       "      <td>772194.00</td>\n",
       "      <td>999986.0</td>\n",
       "    </tr>\n",
       "    <tr>\n",
       "      <th>Year</th>\n",
       "      <td>405624.0</td>\n",
       "      <td>2017.500000</td>\n",
       "      <td>0.500001</td>\n",
       "      <td>2017.0</td>\n",
       "      <td>2017.00</td>\n",
       "      <td>2017.5</td>\n",
       "      <td>2018.00</td>\n",
       "      <td>2018.0</td>\n",
       "    </tr>\n",
       "    <tr>\n",
       "      <th>Month</th>\n",
       "      <td>405624.0</td>\n",
       "      <td>6.500000</td>\n",
       "      <td>3.452057</td>\n",
       "      <td>1.0</td>\n",
       "      <td>3.75</td>\n",
       "      <td>6.5</td>\n",
       "      <td>9.25</td>\n",
       "      <td>12.0</td>\n",
       "    </tr>\n",
       "    <tr>\n",
       "      <th>Flights Booked</th>\n",
       "      <td>405624.0</td>\n",
       "      <td>4.115052</td>\n",
       "      <td>5.225518</td>\n",
       "      <td>0.0</td>\n",
       "      <td>0.00</td>\n",
       "      <td>1.0</td>\n",
       "      <td>8.00</td>\n",
       "      <td>21.0</td>\n",
       "    </tr>\n",
       "    <tr>\n",
       "      <th>Flights with Companions</th>\n",
       "      <td>405624.0</td>\n",
       "      <td>1.031805</td>\n",
       "      <td>2.076869</td>\n",
       "      <td>0.0</td>\n",
       "      <td>0.00</td>\n",
       "      <td>0.0</td>\n",
       "      <td>1.00</td>\n",
       "      <td>11.0</td>\n",
       "    </tr>\n",
       "    <tr>\n",
       "      <th>Total Flights</th>\n",
       "      <td>405624.0</td>\n",
       "      <td>5.146858</td>\n",
       "      <td>6.521227</td>\n",
       "      <td>0.0</td>\n",
       "      <td>0.00</td>\n",
       "      <td>1.0</td>\n",
       "      <td>10.00</td>\n",
       "      <td>32.0</td>\n",
       "    </tr>\n",
       "    <tr>\n",
       "      <th>Distance</th>\n",
       "      <td>405624.0</td>\n",
       "      <td>1208.880059</td>\n",
       "      <td>1433.155320</td>\n",
       "      <td>0.0</td>\n",
       "      <td>0.00</td>\n",
       "      <td>488.0</td>\n",
       "      <td>2336.00</td>\n",
       "      <td>6293.0</td>\n",
       "    </tr>\n",
       "    <tr>\n",
       "      <th>Points Accumulated</th>\n",
       "      <td>405624.0</td>\n",
       "      <td>123.692721</td>\n",
       "      <td>146.599831</td>\n",
       "      <td>0.0</td>\n",
       "      <td>0.00</td>\n",
       "      <td>50.0</td>\n",
       "      <td>239.00</td>\n",
       "      <td>676.5</td>\n",
       "    </tr>\n",
       "    <tr>\n",
       "      <th>Points Redeemed</th>\n",
       "      <td>405624.0</td>\n",
       "      <td>30.696872</td>\n",
       "      <td>125.486049</td>\n",
       "      <td>0.0</td>\n",
       "      <td>0.00</td>\n",
       "      <td>0.0</td>\n",
       "      <td>0.00</td>\n",
       "      <td>876.0</td>\n",
       "    </tr>\n",
       "    <tr>\n",
       "      <th>Dollar Cost Points Redeemed</th>\n",
       "      <td>405624.0</td>\n",
       "      <td>2.484503</td>\n",
       "      <td>10.150038</td>\n",
       "      <td>0.0</td>\n",
       "      <td>0.00</td>\n",
       "      <td>0.0</td>\n",
       "      <td>0.00</td>\n",
       "      <td>71.0</td>\n",
       "    </tr>\n",
       "  </tbody>\n",
       "</table>\n",
       "</div>"
      ],
      "text/plain": [
       "                                count           mean            std       min  \\\n",
       "Loyalty Number               405624.0  550037.873084  258935.286969  100018.0   \n",
       "Year                         405624.0    2017.500000       0.500001    2017.0   \n",
       "Month                        405624.0       6.500000       3.452057       1.0   \n",
       "Flights Booked               405624.0       4.115052       5.225518       0.0   \n",
       "Flights with Companions      405624.0       1.031805       2.076869       0.0   \n",
       "Total Flights                405624.0       5.146858       6.521227       0.0   \n",
       "Distance                     405624.0    1208.880059    1433.155320       0.0   \n",
       "Points Accumulated           405624.0     123.692721     146.599831       0.0   \n",
       "Points Redeemed              405624.0      30.696872     125.486049       0.0   \n",
       "Dollar Cost Points Redeemed  405624.0       2.484503      10.150038       0.0   \n",
       "\n",
       "                                   25%       50%        75%       max  \n",
       "Loyalty Number               326961.00  550834.0  772194.00  999986.0  \n",
       "Year                           2017.00    2017.5    2018.00    2018.0  \n",
       "Month                             3.75       6.5       9.25      12.0  \n",
       "Flights Booked                    0.00       1.0       8.00      21.0  \n",
       "Flights with Companions           0.00       0.0       1.00      11.0  \n",
       "Total Flights                     0.00       1.0      10.00      32.0  \n",
       "Distance                          0.00     488.0    2336.00    6293.0  \n",
       "Points Accumulated                0.00      50.0     239.00     676.5  \n",
       "Points Redeemed                   0.00       0.0       0.00     876.0  \n",
       "Dollar Cost Points Redeemed       0.00       0.0       0.00      71.0  "
      ]
     },
     "metadata": {},
     "output_type": "display_data"
    },
    {
     "name": "stdout",
     "output_type": "stream",
     "text": [
      "________________________________________________________________________________________________________\n",
      "🌋Descripción de los datos no-numéricos:\n",
      "⚠️ No hay columnas no-numéricas (tipo object o string) en el DataFrame.\n",
      "________________________________________________________________________________________________________\n",
      "🍂Saber si hay datos únicos:\n"
     ]
    },
    {
     "data": {
      "application/vnd.microsoft.datawrangler.viewer.v0+json": {
       "columns": [
        {
         "name": "index",
         "rawType": "object",
         "type": "string"
        },
        {
         "name": "0",
         "rawType": "int64",
         "type": "integer"
        }
       ],
       "ref": "f8bd9279-e3fe-49b4-81ef-0789da4103a8",
       "rows": [
        [
         "Loyalty Number",
         "16737"
        ],
        [
         "Year",
         "2"
        ],
        [
         "Month",
         "12"
        ],
        [
         "Flights Booked",
         "22"
        ],
        [
         "Flights with Companions",
         "12"
        ],
        [
         "Total Flights",
         "33"
        ],
        [
         "Distance",
         "4746"
        ],
        [
         "Points Accumulated",
         "1549"
        ],
        [
         "Points Redeemed",
         "587"
        ],
        [
         "Dollar Cost Points Redeemed",
         "49"
        ]
       ],
       "shape": {
        "columns": 1,
        "rows": 10
       }
      },
      "text/plain": [
       "Loyalty Number                 16737\n",
       "Year                               2\n",
       "Month                             12\n",
       "Flights Booked                    22\n",
       "Flights with Companions           12\n",
       "Total Flights                     33\n",
       "Distance                        4746\n",
       "Points Accumulated              1549\n",
       "Points Redeemed                  587\n",
       "Dollar Cost Points Redeemed       49\n",
       "dtype: int64"
      ]
     },
     "metadata": {},
     "output_type": "display_data"
    },
    {
     "name": "stdout",
     "output_type": "stream",
     "text": [
      "________________________________________________________________________________________________________\n",
      "🐖Qué datos son nulos por columnas:\n"
     ]
    },
    {
     "data": {
      "application/vnd.microsoft.datawrangler.viewer.v0+json": {
       "columns": [
        {
         "name": "index",
         "rawType": "object",
         "type": "string"
        },
        {
         "name": "0",
         "rawType": "int64",
         "type": "integer"
        }
       ],
       "ref": "38389f5a-4682-4e6e-badc-279b019b6582",
       "rows": [
        [
         "Loyalty Number",
         "0"
        ],
        [
         "Year",
         "0"
        ],
        [
         "Month",
         "0"
        ],
        [
         "Flights Booked",
         "0"
        ],
        [
         "Flights with Companions",
         "0"
        ],
        [
         "Total Flights",
         "0"
        ],
        [
         "Distance",
         "0"
        ],
        [
         "Points Accumulated",
         "0"
        ],
        [
         "Points Redeemed",
         "0"
        ],
        [
         "Dollar Cost Points Redeemed",
         "0"
        ]
       ],
       "shape": {
        "columns": 1,
        "rows": 10
       }
      },
      "text/plain": [
       "Loyalty Number                 0\n",
       "Year                           0\n",
       "Month                          0\n",
       "Flights Booked                 0\n",
       "Flights with Companions        0\n",
       "Total Flights                  0\n",
       "Distance                       0\n",
       "Points Accumulated             0\n",
       "Points Redeemed                0\n",
       "Dollar Cost Points Redeemed    0\n",
       "dtype: int64"
      ]
     },
     "metadata": {},
     "output_type": "display_data"
    },
    {
     "name": "stdout",
     "output_type": "stream",
     "text": [
      "________________________________________________________________________________________________________\n",
      "🐲Filas duplicadas:\n",
      "Cantidad de duplicados: 1864\n",
      "Primeros duplicados:\n"
     ]
    },
    {
     "data": {
      "application/vnd.microsoft.datawrangler.viewer.v0+json": {
       "columns": [
        {
         "name": "index",
         "rawType": "int64",
         "type": "integer"
        },
        {
         "name": "Loyalty Number",
         "rawType": "int64",
         "type": "integer"
        },
        {
         "name": "Year",
         "rawType": "int64",
         "type": "integer"
        },
        {
         "name": "Month",
         "rawType": "int64",
         "type": "integer"
        },
        {
         "name": "Flights Booked",
         "rawType": "int64",
         "type": "integer"
        },
        {
         "name": "Flights with Companions",
         "rawType": "int64",
         "type": "integer"
        },
        {
         "name": "Total Flights",
         "rawType": "int64",
         "type": "integer"
        },
        {
         "name": "Distance",
         "rawType": "int64",
         "type": "integer"
        },
        {
         "name": "Points Accumulated",
         "rawType": "float64",
         "type": "float"
        },
        {
         "name": "Points Redeemed",
         "rawType": "int64",
         "type": "integer"
        },
        {
         "name": "Dollar Cost Points Redeemed",
         "rawType": "int64",
         "type": "integer"
        }
       ],
       "ref": "a2f729f7-3b6a-42f1-a62a-948fca9e0723",
       "rows": [
        [
         "42",
         "101902",
         "2017",
         "1",
         "0",
         "0",
         "0",
         "0",
         "0.0",
         "0",
         "0"
        ],
        [
         "227",
         "112142",
         "2017",
         "1",
         "0",
         "0",
         "0",
         "0",
         "0.0",
         "0",
         "0"
        ],
        [
         "478",
         "126100",
         "2017",
         "1",
         "0",
         "0",
         "0",
         "0",
         "0.0",
         "0",
         "0"
        ]
       ],
       "shape": {
        "columns": 10,
        "rows": 3
       }
      },
      "text/html": [
       "<div>\n",
       "<style scoped>\n",
       "    .dataframe tbody tr th:only-of-type {\n",
       "        vertical-align: middle;\n",
       "    }\n",
       "\n",
       "    .dataframe tbody tr th {\n",
       "        vertical-align: top;\n",
       "    }\n",
       "\n",
       "    .dataframe thead th {\n",
       "        text-align: right;\n",
       "    }\n",
       "</style>\n",
       "<table border=\"1\" class=\"dataframe\">\n",
       "  <thead>\n",
       "    <tr style=\"text-align: right;\">\n",
       "      <th></th>\n",
       "      <th>Loyalty Number</th>\n",
       "      <th>Year</th>\n",
       "      <th>Month</th>\n",
       "      <th>Flights Booked</th>\n",
       "      <th>Flights with Companions</th>\n",
       "      <th>Total Flights</th>\n",
       "      <th>Distance</th>\n",
       "      <th>Points Accumulated</th>\n",
       "      <th>Points Redeemed</th>\n",
       "      <th>Dollar Cost Points Redeemed</th>\n",
       "    </tr>\n",
       "  </thead>\n",
       "  <tbody>\n",
       "    <tr>\n",
       "      <th>42</th>\n",
       "      <td>101902</td>\n",
       "      <td>2017</td>\n",
       "      <td>1</td>\n",
       "      <td>0</td>\n",
       "      <td>0</td>\n",
       "      <td>0</td>\n",
       "      <td>0</td>\n",
       "      <td>0.0</td>\n",
       "      <td>0</td>\n",
       "      <td>0</td>\n",
       "    </tr>\n",
       "    <tr>\n",
       "      <th>227</th>\n",
       "      <td>112142</td>\n",
       "      <td>2017</td>\n",
       "      <td>1</td>\n",
       "      <td>0</td>\n",
       "      <td>0</td>\n",
       "      <td>0</td>\n",
       "      <td>0</td>\n",
       "      <td>0.0</td>\n",
       "      <td>0</td>\n",
       "      <td>0</td>\n",
       "    </tr>\n",
       "    <tr>\n",
       "      <th>478</th>\n",
       "      <td>126100</td>\n",
       "      <td>2017</td>\n",
       "      <td>1</td>\n",
       "      <td>0</td>\n",
       "      <td>0</td>\n",
       "      <td>0</td>\n",
       "      <td>0</td>\n",
       "      <td>0.0</td>\n",
       "      <td>0</td>\n",
       "      <td>0</td>\n",
       "    </tr>\n",
       "  </tbody>\n",
       "</table>\n",
       "</div>"
      ],
      "text/plain": [
       "     Loyalty Number  Year  Month  Flights Booked  Flights with Companions  \\\n",
       "42           101902  2017      1               0                        0   \n",
       "227          112142  2017      1               0                        0   \n",
       "478          126100  2017      1               0                        0   \n",
       "\n",
       "     Total Flights  Distance  Points Accumulated  Points Redeemed  \\\n",
       "42               0         0                 0.0                0   \n",
       "227              0         0                 0.0                0   \n",
       "478              0         0                 0.0                0   \n",
       "\n",
       "     Dollar Cost Points Redeemed  \n",
       "42                             0  \n",
       "227                            0  \n",
       "478                            0  "
      ]
     },
     "metadata": {},
     "output_type": "display_data"
    },
    {
     "name": "stdout",
     "output_type": "stream",
     "text": [
      "________________________________________________________________________________________________________\n",
      "🪹 Columnas constantes (solo 1 valor único):\n",
      "No hay columnas constantes\n",
      "________________________________________________________________________________________________________\n",
      "🚀 Valores únicos en columnas categóricas:\n",
      "🧬 Tipos de datos por columna:\n"
     ]
    },
    {
     "data": {
      "application/vnd.microsoft.datawrangler.viewer.v0+json": {
       "columns": [
        {
         "name": "index",
         "rawType": "object",
         "type": "unknown"
        },
        {
         "name": "count",
         "rawType": "int64",
         "type": "integer"
        }
       ],
       "ref": "c87493d1-4829-49f9-8064-c639f7db3d55",
       "rows": [
        [
         "int64",
         "9"
        ],
        [
         "float64",
         "1"
        ]
       ],
       "shape": {
        "columns": 1,
        "rows": 2
       }
      },
      "text/plain": [
       "int64      9\n",
       "float64    1\n",
       "Name: count, dtype: int64"
      ]
     },
     "metadata": {},
     "output_type": "display_data"
    },
    {
     "name": "stdout",
     "output_type": "stream",
     "text": [
      "________________________________________________________________________________________________________\n"
     ]
    }
   ],
   "source": [
    "eda_basico(df_flight)"
   ]
  },
  {
   "cell_type": "markdown",
   "id": "670340e9",
   "metadata": {},
   "source": [
    "#### EXPLORACIÓN INICIAL DE df_loyalty"
   ]
  },
  {
   "cell_type": "code",
   "execution_count": 13,
   "id": "05e2f3e1",
   "metadata": {},
   "outputs": [
    {
     "name": "stdout",
     "output_type": "stream",
     "text": [
      "🌷Ejemplo de datos del DF:\n"
     ]
    },
    {
     "data": {
      "application/vnd.microsoft.datawrangler.viewer.v0+json": {
       "columns": [
        {
         "name": "index",
         "rawType": "int64",
         "type": "integer"
        },
        {
         "name": "Loyalty Number",
         "rawType": "int64",
         "type": "integer"
        },
        {
         "name": "Country",
         "rawType": "object",
         "type": "string"
        },
        {
         "name": "Province",
         "rawType": "object",
         "type": "string"
        },
        {
         "name": "City",
         "rawType": "object",
         "type": "string"
        },
        {
         "name": "Postal Code",
         "rawType": "object",
         "type": "string"
        },
        {
         "name": "Gender",
         "rawType": "object",
         "type": "string"
        },
        {
         "name": "Education",
         "rawType": "object",
         "type": "string"
        },
        {
         "name": "Salary",
         "rawType": "float64",
         "type": "float"
        },
        {
         "name": "Marital Status",
         "rawType": "object",
         "type": "string"
        },
        {
         "name": "Loyalty Card",
         "rawType": "object",
         "type": "string"
        },
        {
         "name": "CLV",
         "rawType": "float64",
         "type": "float"
        },
        {
         "name": "Enrollment Type",
         "rawType": "object",
         "type": "string"
        },
        {
         "name": "Enrollment Year",
         "rawType": "int64",
         "type": "integer"
        },
        {
         "name": "Enrollment Month",
         "rawType": "int64",
         "type": "integer"
        },
        {
         "name": "Cancellation Year",
         "rawType": "float64",
         "type": "float"
        },
        {
         "name": "Cancellation Month",
         "rawType": "float64",
         "type": "float"
        }
       ],
       "ref": "9525fae8-56d9-4575-9e9b-14d4770b162e",
       "rows": [
        [
         "0",
         "480934",
         "Canada",
         "Ontario",
         "Toronto",
         "M2Z 4K1",
         "Female",
         "Bachelor",
         "83236.0",
         "Married",
         "Star",
         "3839.14",
         "Standard",
         "2016",
         "2",
         null,
         null
        ],
        [
         "1",
         "549612",
         "Canada",
         "Alberta",
         "Edmonton",
         "T3G 6Y6",
         "Male",
         "College",
         null,
         "Divorced",
         "Star",
         "3839.61",
         "Standard",
         "2016",
         "3",
         null,
         null
        ],
        [
         "2",
         "429460",
         "Canada",
         "British Columbia",
         "Vancouver",
         "V6E 3D9",
         "Male",
         "College",
         null,
         "Single",
         "Star",
         "3839.75",
         "Standard",
         "2014",
         "7",
         "2018.0",
         "1.0"
        ]
       ],
       "shape": {
        "columns": 16,
        "rows": 3
       }
      },
      "text/html": [
       "<div>\n",
       "<style scoped>\n",
       "    .dataframe tbody tr th:only-of-type {\n",
       "        vertical-align: middle;\n",
       "    }\n",
       "\n",
       "    .dataframe tbody tr th {\n",
       "        vertical-align: top;\n",
       "    }\n",
       "\n",
       "    .dataframe thead th {\n",
       "        text-align: right;\n",
       "    }\n",
       "</style>\n",
       "<table border=\"1\" class=\"dataframe\">\n",
       "  <thead>\n",
       "    <tr style=\"text-align: right;\">\n",
       "      <th></th>\n",
       "      <th>Loyalty Number</th>\n",
       "      <th>Country</th>\n",
       "      <th>Province</th>\n",
       "      <th>City</th>\n",
       "      <th>Postal Code</th>\n",
       "      <th>Gender</th>\n",
       "      <th>Education</th>\n",
       "      <th>Salary</th>\n",
       "      <th>Marital Status</th>\n",
       "      <th>Loyalty Card</th>\n",
       "      <th>CLV</th>\n",
       "      <th>Enrollment Type</th>\n",
       "      <th>Enrollment Year</th>\n",
       "      <th>Enrollment Month</th>\n",
       "      <th>Cancellation Year</th>\n",
       "      <th>Cancellation Month</th>\n",
       "    </tr>\n",
       "  </thead>\n",
       "  <tbody>\n",
       "    <tr>\n",
       "      <th>0</th>\n",
       "      <td>480934</td>\n",
       "      <td>Canada</td>\n",
       "      <td>Ontario</td>\n",
       "      <td>Toronto</td>\n",
       "      <td>M2Z 4K1</td>\n",
       "      <td>Female</td>\n",
       "      <td>Bachelor</td>\n",
       "      <td>83236.0</td>\n",
       "      <td>Married</td>\n",
       "      <td>Star</td>\n",
       "      <td>3839.14</td>\n",
       "      <td>Standard</td>\n",
       "      <td>2016</td>\n",
       "      <td>2</td>\n",
       "      <td>NaN</td>\n",
       "      <td>NaN</td>\n",
       "    </tr>\n",
       "    <tr>\n",
       "      <th>1</th>\n",
       "      <td>549612</td>\n",
       "      <td>Canada</td>\n",
       "      <td>Alberta</td>\n",
       "      <td>Edmonton</td>\n",
       "      <td>T3G 6Y6</td>\n",
       "      <td>Male</td>\n",
       "      <td>College</td>\n",
       "      <td>NaN</td>\n",
       "      <td>Divorced</td>\n",
       "      <td>Star</td>\n",
       "      <td>3839.61</td>\n",
       "      <td>Standard</td>\n",
       "      <td>2016</td>\n",
       "      <td>3</td>\n",
       "      <td>NaN</td>\n",
       "      <td>NaN</td>\n",
       "    </tr>\n",
       "    <tr>\n",
       "      <th>2</th>\n",
       "      <td>429460</td>\n",
       "      <td>Canada</td>\n",
       "      <td>British Columbia</td>\n",
       "      <td>Vancouver</td>\n",
       "      <td>V6E 3D9</td>\n",
       "      <td>Male</td>\n",
       "      <td>College</td>\n",
       "      <td>NaN</td>\n",
       "      <td>Single</td>\n",
       "      <td>Star</td>\n",
       "      <td>3839.75</td>\n",
       "      <td>Standard</td>\n",
       "      <td>2014</td>\n",
       "      <td>7</td>\n",
       "      <td>2018.0</td>\n",
       "      <td>1.0</td>\n",
       "    </tr>\n",
       "  </tbody>\n",
       "</table>\n",
       "</div>"
      ],
      "text/plain": [
       "   Loyalty Number Country          Province       City Postal Code  Gender  \\\n",
       "0          480934  Canada           Ontario    Toronto     M2Z 4K1  Female   \n",
       "1          549612  Canada           Alberta   Edmonton     T3G 6Y6    Male   \n",
       "2          429460  Canada  British Columbia  Vancouver     V6E 3D9    Male   \n",
       "\n",
       "  Education   Salary Marital Status Loyalty Card      CLV Enrollment Type  \\\n",
       "0  Bachelor  83236.0        Married         Star  3839.14        Standard   \n",
       "1   College      NaN       Divorced         Star  3839.61        Standard   \n",
       "2   College      NaN         Single         Star  3839.75        Standard   \n",
       "\n",
       "   Enrollment Year  Enrollment Month  Cancellation Year  Cancellation Month  \n",
       "0             2016                 2                NaN                 NaN  \n",
       "1             2016                 3                NaN                 NaN  \n",
       "2             2014                 7             2018.0                 1.0  "
      ]
     },
     "metadata": {},
     "output_type": "display_data"
    },
    {
     "data": {
      "application/vnd.microsoft.datawrangler.viewer.v0+json": {
       "columns": [
        {
         "name": "index",
         "rawType": "int64",
         "type": "integer"
        },
        {
         "name": "Loyalty Number",
         "rawType": "int64",
         "type": "integer"
        },
        {
         "name": "Country",
         "rawType": "object",
         "type": "string"
        },
        {
         "name": "Province",
         "rawType": "object",
         "type": "string"
        },
        {
         "name": "City",
         "rawType": "object",
         "type": "string"
        },
        {
         "name": "Postal Code",
         "rawType": "object",
         "type": "string"
        },
        {
         "name": "Gender",
         "rawType": "object",
         "type": "string"
        },
        {
         "name": "Education",
         "rawType": "object",
         "type": "string"
        },
        {
         "name": "Salary",
         "rawType": "float64",
         "type": "float"
        },
        {
         "name": "Marital Status",
         "rawType": "object",
         "type": "string"
        },
        {
         "name": "Loyalty Card",
         "rawType": "object",
         "type": "string"
        },
        {
         "name": "CLV",
         "rawType": "float64",
         "type": "float"
        },
        {
         "name": "Enrollment Type",
         "rawType": "object",
         "type": "string"
        },
        {
         "name": "Enrollment Year",
         "rawType": "int64",
         "type": "integer"
        },
        {
         "name": "Enrollment Month",
         "rawType": "int64",
         "type": "integer"
        },
        {
         "name": "Cancellation Year",
         "rawType": "float64",
         "type": "float"
        },
        {
         "name": "Cancellation Month",
         "rawType": "float64",
         "type": "float"
        }
       ],
       "ref": "786e519d-4f0e-4536-a40a-00d85237f480",
       "rows": [
        [
         "16734",
         "776187",
         "Canada",
         "British Columbia",
         "Vancouver",
         "V5R 1W3",
         "Male",
         "College",
         null,
         "Single",
         "Star",
         "74228.52",
         "Standard",
         "2014",
         "3",
         null,
         null
        ],
        [
         "16735",
         "906428",
         "Canada",
         "Yukon",
         "Whitehorse",
         "Y2K 6R0",
         "Male",
         "Bachelor",
         "-57297.0",
         "Married",
         "Star",
         "10018.66",
         "2018 Promotion",
         "2018",
         "4",
         null,
         null
        ],
        [
         "16736",
         "652627",
         "Canada",
         "Manitoba",
         "Winnipeg",
         "R2C 0M5",
         "Female",
         "Bachelor",
         "75049.0",
         "Married",
         "Star",
         "83325.38",
         "Standard",
         "2015",
         "12",
         "2016.0",
         "8.0"
        ]
       ],
       "shape": {
        "columns": 16,
        "rows": 3
       }
      },
      "text/html": [
       "<div>\n",
       "<style scoped>\n",
       "    .dataframe tbody tr th:only-of-type {\n",
       "        vertical-align: middle;\n",
       "    }\n",
       "\n",
       "    .dataframe tbody tr th {\n",
       "        vertical-align: top;\n",
       "    }\n",
       "\n",
       "    .dataframe thead th {\n",
       "        text-align: right;\n",
       "    }\n",
       "</style>\n",
       "<table border=\"1\" class=\"dataframe\">\n",
       "  <thead>\n",
       "    <tr style=\"text-align: right;\">\n",
       "      <th></th>\n",
       "      <th>Loyalty Number</th>\n",
       "      <th>Country</th>\n",
       "      <th>Province</th>\n",
       "      <th>City</th>\n",
       "      <th>Postal Code</th>\n",
       "      <th>Gender</th>\n",
       "      <th>Education</th>\n",
       "      <th>Salary</th>\n",
       "      <th>Marital Status</th>\n",
       "      <th>Loyalty Card</th>\n",
       "      <th>CLV</th>\n",
       "      <th>Enrollment Type</th>\n",
       "      <th>Enrollment Year</th>\n",
       "      <th>Enrollment Month</th>\n",
       "      <th>Cancellation Year</th>\n",
       "      <th>Cancellation Month</th>\n",
       "    </tr>\n",
       "  </thead>\n",
       "  <tbody>\n",
       "    <tr>\n",
       "      <th>16734</th>\n",
       "      <td>776187</td>\n",
       "      <td>Canada</td>\n",
       "      <td>British Columbia</td>\n",
       "      <td>Vancouver</td>\n",
       "      <td>V5R 1W3</td>\n",
       "      <td>Male</td>\n",
       "      <td>College</td>\n",
       "      <td>NaN</td>\n",
       "      <td>Single</td>\n",
       "      <td>Star</td>\n",
       "      <td>74228.52</td>\n",
       "      <td>Standard</td>\n",
       "      <td>2014</td>\n",
       "      <td>3</td>\n",
       "      <td>NaN</td>\n",
       "      <td>NaN</td>\n",
       "    </tr>\n",
       "    <tr>\n",
       "      <th>16735</th>\n",
       "      <td>906428</td>\n",
       "      <td>Canada</td>\n",
       "      <td>Yukon</td>\n",
       "      <td>Whitehorse</td>\n",
       "      <td>Y2K 6R0</td>\n",
       "      <td>Male</td>\n",
       "      <td>Bachelor</td>\n",
       "      <td>-57297.0</td>\n",
       "      <td>Married</td>\n",
       "      <td>Star</td>\n",
       "      <td>10018.66</td>\n",
       "      <td>2018 Promotion</td>\n",
       "      <td>2018</td>\n",
       "      <td>4</td>\n",
       "      <td>NaN</td>\n",
       "      <td>NaN</td>\n",
       "    </tr>\n",
       "    <tr>\n",
       "      <th>16736</th>\n",
       "      <td>652627</td>\n",
       "      <td>Canada</td>\n",
       "      <td>Manitoba</td>\n",
       "      <td>Winnipeg</td>\n",
       "      <td>R2C 0M5</td>\n",
       "      <td>Female</td>\n",
       "      <td>Bachelor</td>\n",
       "      <td>75049.0</td>\n",
       "      <td>Married</td>\n",
       "      <td>Star</td>\n",
       "      <td>83325.38</td>\n",
       "      <td>Standard</td>\n",
       "      <td>2015</td>\n",
       "      <td>12</td>\n",
       "      <td>2016.0</td>\n",
       "      <td>8.0</td>\n",
       "    </tr>\n",
       "  </tbody>\n",
       "</table>\n",
       "</div>"
      ],
      "text/plain": [
       "       Loyalty Number Country          Province        City Postal Code  \\\n",
       "16734          776187  Canada  British Columbia   Vancouver     V5R 1W3   \n",
       "16735          906428  Canada             Yukon  Whitehorse     Y2K 6R0   \n",
       "16736          652627  Canada          Manitoba    Winnipeg     R2C 0M5   \n",
       "\n",
       "       Gender Education   Salary Marital Status Loyalty Card       CLV  \\\n",
       "16734    Male   College      NaN         Single         Star  74228.52   \n",
       "16735    Male  Bachelor -57297.0        Married         Star  10018.66   \n",
       "16736  Female  Bachelor  75049.0        Married         Star  83325.38   \n",
       "\n",
       "      Enrollment Type  Enrollment Year  Enrollment Month  Cancellation Year  \\\n",
       "16734        Standard             2014                 3                NaN   \n",
       "16735  2018 Promotion             2018                 4                NaN   \n",
       "16736        Standard             2015                12             2016.0   \n",
       "\n",
       "       Cancellation Month  \n",
       "16734                 NaN  \n",
       "16735                 NaN  \n",
       "16736                 8.0  "
      ]
     },
     "metadata": {},
     "output_type": "display_data"
    },
    {
     "data": {
      "application/vnd.microsoft.datawrangler.viewer.v0+json": {
       "columns": [
        {
         "name": "index",
         "rawType": "int64",
         "type": "integer"
        },
        {
         "name": "Loyalty Number",
         "rawType": "int64",
         "type": "integer"
        },
        {
         "name": "Country",
         "rawType": "object",
         "type": "string"
        },
        {
         "name": "Province",
         "rawType": "object",
         "type": "string"
        },
        {
         "name": "City",
         "rawType": "object",
         "type": "string"
        },
        {
         "name": "Postal Code",
         "rawType": "object",
         "type": "string"
        },
        {
         "name": "Gender",
         "rawType": "object",
         "type": "string"
        },
        {
         "name": "Education",
         "rawType": "object",
         "type": "string"
        },
        {
         "name": "Salary",
         "rawType": "float64",
         "type": "float"
        },
        {
         "name": "Marital Status",
         "rawType": "object",
         "type": "string"
        },
        {
         "name": "Loyalty Card",
         "rawType": "object",
         "type": "string"
        },
        {
         "name": "CLV",
         "rawType": "float64",
         "type": "float"
        },
        {
         "name": "Enrollment Type",
         "rawType": "object",
         "type": "string"
        },
        {
         "name": "Enrollment Year",
         "rawType": "int64",
         "type": "integer"
        },
        {
         "name": "Enrollment Month",
         "rawType": "int64",
         "type": "integer"
        },
        {
         "name": "Cancellation Year",
         "rawType": "float64",
         "type": "float"
        },
        {
         "name": "Cancellation Month",
         "rawType": "float64",
         "type": "float"
        }
       ],
       "ref": "fe96d6eb-f731-42f7-a5e6-4bb0a80b3636",
       "rows": [
        [
         "11117",
         "165224",
         "Canada",
         "Alberta",
         "Peace River",
         "T9O 2W2",
         "Female",
         "Bachelor",
         "57510.0",
         "Single",
         "Star",
         "2574.02",
         "Standard",
         "2016",
         "8",
         "2017.0",
         "4.0"
        ],
        [
         "6192",
         "545541",
         "Canada",
         "Nova Scotia",
         "Halifax",
         "B3J 9S2",
         "Male",
         "Bachelor",
         "83672.0",
         "Married",
         "Nova",
         "4887.79",
         "Standard",
         "2013",
         "1",
         null,
         null
        ],
        [
         "2696",
         "638389",
         "Canada",
         "Ontario",
         "Toronto",
         "M8Y 4K8",
         "Male",
         "Bachelor",
         "63652.0",
         "Married",
         "Aurora",
         "8649.18",
         "Standard",
         "2014",
         "9",
         null,
         null
        ]
       ],
       "shape": {
        "columns": 16,
        "rows": 3
       }
      },
      "text/html": [
       "<div>\n",
       "<style scoped>\n",
       "    .dataframe tbody tr th:only-of-type {\n",
       "        vertical-align: middle;\n",
       "    }\n",
       "\n",
       "    .dataframe tbody tr th {\n",
       "        vertical-align: top;\n",
       "    }\n",
       "\n",
       "    .dataframe thead th {\n",
       "        text-align: right;\n",
       "    }\n",
       "</style>\n",
       "<table border=\"1\" class=\"dataframe\">\n",
       "  <thead>\n",
       "    <tr style=\"text-align: right;\">\n",
       "      <th></th>\n",
       "      <th>Loyalty Number</th>\n",
       "      <th>Country</th>\n",
       "      <th>Province</th>\n",
       "      <th>City</th>\n",
       "      <th>Postal Code</th>\n",
       "      <th>Gender</th>\n",
       "      <th>Education</th>\n",
       "      <th>Salary</th>\n",
       "      <th>Marital Status</th>\n",
       "      <th>Loyalty Card</th>\n",
       "      <th>CLV</th>\n",
       "      <th>Enrollment Type</th>\n",
       "      <th>Enrollment Year</th>\n",
       "      <th>Enrollment Month</th>\n",
       "      <th>Cancellation Year</th>\n",
       "      <th>Cancellation Month</th>\n",
       "    </tr>\n",
       "  </thead>\n",
       "  <tbody>\n",
       "    <tr>\n",
       "      <th>11117</th>\n",
       "      <td>165224</td>\n",
       "      <td>Canada</td>\n",
       "      <td>Alberta</td>\n",
       "      <td>Peace River</td>\n",
       "      <td>T9O 2W2</td>\n",
       "      <td>Female</td>\n",
       "      <td>Bachelor</td>\n",
       "      <td>57510.0</td>\n",
       "      <td>Single</td>\n",
       "      <td>Star</td>\n",
       "      <td>2574.02</td>\n",
       "      <td>Standard</td>\n",
       "      <td>2016</td>\n",
       "      <td>8</td>\n",
       "      <td>2017.0</td>\n",
       "      <td>4.0</td>\n",
       "    </tr>\n",
       "    <tr>\n",
       "      <th>6192</th>\n",
       "      <td>545541</td>\n",
       "      <td>Canada</td>\n",
       "      <td>Nova Scotia</td>\n",
       "      <td>Halifax</td>\n",
       "      <td>B3J 9S2</td>\n",
       "      <td>Male</td>\n",
       "      <td>Bachelor</td>\n",
       "      <td>83672.0</td>\n",
       "      <td>Married</td>\n",
       "      <td>Nova</td>\n",
       "      <td>4887.79</td>\n",
       "      <td>Standard</td>\n",
       "      <td>2013</td>\n",
       "      <td>1</td>\n",
       "      <td>NaN</td>\n",
       "      <td>NaN</td>\n",
       "    </tr>\n",
       "    <tr>\n",
       "      <th>2696</th>\n",
       "      <td>638389</td>\n",
       "      <td>Canada</td>\n",
       "      <td>Ontario</td>\n",
       "      <td>Toronto</td>\n",
       "      <td>M8Y 4K8</td>\n",
       "      <td>Male</td>\n",
       "      <td>Bachelor</td>\n",
       "      <td>63652.0</td>\n",
       "      <td>Married</td>\n",
       "      <td>Aurora</td>\n",
       "      <td>8649.18</td>\n",
       "      <td>Standard</td>\n",
       "      <td>2014</td>\n",
       "      <td>9</td>\n",
       "      <td>NaN</td>\n",
       "      <td>NaN</td>\n",
       "    </tr>\n",
       "  </tbody>\n",
       "</table>\n",
       "</div>"
      ],
      "text/plain": [
       "       Loyalty Number Country     Province         City Postal Code  Gender  \\\n",
       "11117          165224  Canada      Alberta  Peace River     T9O 2W2  Female   \n",
       "6192           545541  Canada  Nova Scotia      Halifax     B3J 9S2    Male   \n",
       "2696           638389  Canada      Ontario      Toronto     M8Y 4K8    Male   \n",
       "\n",
       "      Education   Salary Marital Status Loyalty Card      CLV Enrollment Type  \\\n",
       "11117  Bachelor  57510.0         Single         Star  2574.02        Standard   \n",
       "6192   Bachelor  83672.0        Married         Nova  4887.79        Standard   \n",
       "2696   Bachelor  63652.0        Married       Aurora  8649.18        Standard   \n",
       "\n",
       "       Enrollment Year  Enrollment Month  Cancellation Year  \\\n",
       "11117             2016                 8             2017.0   \n",
       "6192              2013                 1                NaN   \n",
       "2696              2014                 9                NaN   \n",
       "\n",
       "       Cancellation Month  \n",
       "11117                 4.0  \n",
       "6192                  NaN  \n",
       "2696                  NaN  "
      ]
     },
     "metadata": {},
     "output_type": "display_data"
    },
    {
     "name": "stdout",
     "output_type": "stream",
     "text": [
      "________________________________________________________________________________________________________\n",
      "🌻Número de Filas:\n"
     ]
    },
    {
     "data": {
      "text/plain": [
       "16737"
      ]
     },
     "metadata": {},
     "output_type": "display_data"
    },
    {
     "name": "stdout",
     "output_type": "stream",
     "text": [
      "________________________________________________________________________________________________________\n",
      "🌱Número de Columnas:\n"
     ]
    },
    {
     "data": {
      "text/plain": [
       "16"
      ]
     },
     "metadata": {},
     "output_type": "display_data"
    },
    {
     "name": "stdout",
     "output_type": "stream",
     "text": [
      "________________________________________________________________________________________________________\n",
      "🌼Información de la tabla:\n",
      "<class 'pandas.core.frame.DataFrame'>\n",
      "RangeIndex: 16737 entries, 0 to 16736\n",
      "Data columns (total 16 columns):\n",
      " #   Column              Non-Null Count  Dtype  \n",
      "---  ------              --------------  -----  \n",
      " 0   Loyalty Number      16737 non-null  int64  \n",
      " 1   Country             16737 non-null  object \n",
      " 2   Province            16737 non-null  object \n",
      " 3   City                16737 non-null  object \n",
      " 4   Postal Code         16737 non-null  object \n",
      " 5   Gender              16737 non-null  object \n",
      " 6   Education           16737 non-null  object \n",
      " 7   Salary              12499 non-null  float64\n",
      " 8   Marital Status      16737 non-null  object \n",
      " 9   Loyalty Card        16737 non-null  object \n",
      " 10  CLV                 16737 non-null  float64\n",
      " 11  Enrollment Type     16737 non-null  object \n",
      " 12  Enrollment Year     16737 non-null  int64  \n",
      " 13  Enrollment Month    16737 non-null  int64  \n",
      " 14  Cancellation Year   2067 non-null   float64\n",
      " 15  Cancellation Month  2067 non-null   float64\n",
      "dtypes: float64(4), int64(3), object(9)\n",
      "memory usage: 2.0+ MB\n"
     ]
    },
    {
     "data": {
      "text/plain": [
       "None"
      ]
     },
     "metadata": {},
     "output_type": "display_data"
    },
    {
     "name": "stdout",
     "output_type": "stream",
     "text": [
      "________________________________________________________________________________________________________\n",
      "🌑Nombre de las columnas:\n"
     ]
    },
    {
     "data": {
      "text/plain": [
       "Index(['Loyalty Number', 'Country', 'Province', 'City', 'Postal Code',\n",
       "       'Gender', 'Education', 'Salary', 'Marital Status', 'Loyalty Card',\n",
       "       'CLV', 'Enrollment Type', 'Enrollment Year', 'Enrollment Month',\n",
       "       'Cancellation Year', 'Cancellation Month'],\n",
       "      dtype='object')"
      ]
     },
     "metadata": {},
     "output_type": "display_data"
    },
    {
     "name": "stdout",
     "output_type": "stream",
     "text": [
      "________________________________________________________________________________________________________\n",
      "🍄Descripción de los datos numéricos:\n"
     ]
    },
    {
     "data": {
      "application/vnd.microsoft.datawrangler.viewer.v0+json": {
       "columns": [
        {
         "name": "index",
         "rawType": "object",
         "type": "string"
        },
        {
         "name": "count",
         "rawType": "float64",
         "type": "float"
        },
        {
         "name": "mean",
         "rawType": "float64",
         "type": "float"
        },
        {
         "name": "std",
         "rawType": "float64",
         "type": "float"
        },
        {
         "name": "min",
         "rawType": "float64",
         "type": "float"
        },
        {
         "name": "25%",
         "rawType": "float64",
         "type": "float"
        },
        {
         "name": "50%",
         "rawType": "float64",
         "type": "float"
        },
        {
         "name": "75%",
         "rawType": "float64",
         "type": "float"
        },
        {
         "name": "max",
         "rawType": "float64",
         "type": "float"
        }
       ],
       "ref": "265224ba-a167-4685-9d09-7f7d9efeb051",
       "rows": [
        [
         "Loyalty Number",
         "16737.0",
         "549735.8804445241",
         "258912.13245338056",
         "100018.0",
         "326603.0",
         "550434.0",
         "772019.0",
         "999986.0"
        ],
        [
         "Salary",
         "12499.0",
         "79245.6094087527",
         "35008.29728510284",
         "-58486.0",
         "59246.5",
         "73455.0",
         "88517.5",
         "407228.0"
        ],
        [
         "CLV",
         "16737.0",
         "7988.896535818843",
         "6860.982280053858",
         "1898.01",
         "3980.84",
         "5780.18",
         "8940.58",
         "83325.38"
        ],
        [
         "Enrollment Year",
         "16737.0",
         "2015.2532114476908",
         "1.9791107032478614",
         "2012.0",
         "2014.0",
         "2015.0",
         "2017.0",
         "2018.0"
        ],
        [
         "Enrollment Month",
         "16737.0",
         "6.669116329091235",
         "3.3989577596971197",
         "1.0",
         "4.0",
         "7.0",
         "10.0",
         "12.0"
        ],
        [
         "Cancellation Year",
         "2067.0",
         "2016.5031446540881",
         "1.3807432303737215",
         "2013.0",
         "2016.0",
         "2017.0",
         "2018.0",
         "2018.0"
        ],
        [
         "Cancellation Month",
         "2067.0",
         "6.96274794388002",
         "3.4552968437811717",
         "1.0",
         "4.0",
         "7.0",
         "10.0",
         "12.0"
        ]
       ],
       "shape": {
        "columns": 8,
        "rows": 7
       }
      },
      "text/html": [
       "<div>\n",
       "<style scoped>\n",
       "    .dataframe tbody tr th:only-of-type {\n",
       "        vertical-align: middle;\n",
       "    }\n",
       "\n",
       "    .dataframe tbody tr th {\n",
       "        vertical-align: top;\n",
       "    }\n",
       "\n",
       "    .dataframe thead th {\n",
       "        text-align: right;\n",
       "    }\n",
       "</style>\n",
       "<table border=\"1\" class=\"dataframe\">\n",
       "  <thead>\n",
       "    <tr style=\"text-align: right;\">\n",
       "      <th></th>\n",
       "      <th>count</th>\n",
       "      <th>mean</th>\n",
       "      <th>std</th>\n",
       "      <th>min</th>\n",
       "      <th>25%</th>\n",
       "      <th>50%</th>\n",
       "      <th>75%</th>\n",
       "      <th>max</th>\n",
       "    </tr>\n",
       "  </thead>\n",
       "  <tbody>\n",
       "    <tr>\n",
       "      <th>Loyalty Number</th>\n",
       "      <td>16737.0</td>\n",
       "      <td>549735.880445</td>\n",
       "      <td>258912.132453</td>\n",
       "      <td>100018.00</td>\n",
       "      <td>326603.00</td>\n",
       "      <td>550434.00</td>\n",
       "      <td>772019.00</td>\n",
       "      <td>999986.00</td>\n",
       "    </tr>\n",
       "    <tr>\n",
       "      <th>Salary</th>\n",
       "      <td>12499.0</td>\n",
       "      <td>79245.609409</td>\n",
       "      <td>35008.297285</td>\n",
       "      <td>-58486.00</td>\n",
       "      <td>59246.50</td>\n",
       "      <td>73455.00</td>\n",
       "      <td>88517.50</td>\n",
       "      <td>407228.00</td>\n",
       "    </tr>\n",
       "    <tr>\n",
       "      <th>CLV</th>\n",
       "      <td>16737.0</td>\n",
       "      <td>7988.896536</td>\n",
       "      <td>6860.982280</td>\n",
       "      <td>1898.01</td>\n",
       "      <td>3980.84</td>\n",
       "      <td>5780.18</td>\n",
       "      <td>8940.58</td>\n",
       "      <td>83325.38</td>\n",
       "    </tr>\n",
       "    <tr>\n",
       "      <th>Enrollment Year</th>\n",
       "      <td>16737.0</td>\n",
       "      <td>2015.253211</td>\n",
       "      <td>1.979111</td>\n",
       "      <td>2012.00</td>\n",
       "      <td>2014.00</td>\n",
       "      <td>2015.00</td>\n",
       "      <td>2017.00</td>\n",
       "      <td>2018.00</td>\n",
       "    </tr>\n",
       "    <tr>\n",
       "      <th>Enrollment Month</th>\n",
       "      <td>16737.0</td>\n",
       "      <td>6.669116</td>\n",
       "      <td>3.398958</td>\n",
       "      <td>1.00</td>\n",
       "      <td>4.00</td>\n",
       "      <td>7.00</td>\n",
       "      <td>10.00</td>\n",
       "      <td>12.00</td>\n",
       "    </tr>\n",
       "    <tr>\n",
       "      <th>Cancellation Year</th>\n",
       "      <td>2067.0</td>\n",
       "      <td>2016.503145</td>\n",
       "      <td>1.380743</td>\n",
       "      <td>2013.00</td>\n",
       "      <td>2016.00</td>\n",
       "      <td>2017.00</td>\n",
       "      <td>2018.00</td>\n",
       "      <td>2018.00</td>\n",
       "    </tr>\n",
       "    <tr>\n",
       "      <th>Cancellation Month</th>\n",
       "      <td>2067.0</td>\n",
       "      <td>6.962748</td>\n",
       "      <td>3.455297</td>\n",
       "      <td>1.00</td>\n",
       "      <td>4.00</td>\n",
       "      <td>7.00</td>\n",
       "      <td>10.00</td>\n",
       "      <td>12.00</td>\n",
       "    </tr>\n",
       "  </tbody>\n",
       "</table>\n",
       "</div>"
      ],
      "text/plain": [
       "                      count           mean            std        min  \\\n",
       "Loyalty Number      16737.0  549735.880445  258912.132453  100018.00   \n",
       "Salary              12499.0   79245.609409   35008.297285  -58486.00   \n",
       "CLV                 16737.0    7988.896536    6860.982280    1898.01   \n",
       "Enrollment Year     16737.0    2015.253211       1.979111    2012.00   \n",
       "Enrollment Month    16737.0       6.669116       3.398958       1.00   \n",
       "Cancellation Year    2067.0    2016.503145       1.380743    2013.00   \n",
       "Cancellation Month   2067.0       6.962748       3.455297       1.00   \n",
       "\n",
       "                          25%        50%        75%        max  \n",
       "Loyalty Number      326603.00  550434.00  772019.00  999986.00  \n",
       "Salary               59246.50   73455.00   88517.50  407228.00  \n",
       "CLV                   3980.84    5780.18    8940.58   83325.38  \n",
       "Enrollment Year       2014.00    2015.00    2017.00    2018.00  \n",
       "Enrollment Month         4.00       7.00      10.00      12.00  \n",
       "Cancellation Year     2016.00    2017.00    2018.00    2018.00  \n",
       "Cancellation Month       4.00       7.00      10.00      12.00  "
      ]
     },
     "metadata": {},
     "output_type": "display_data"
    },
    {
     "name": "stdout",
     "output_type": "stream",
     "text": [
      "________________________________________________________________________________________________________\n",
      "🌋Descripción de los datos no-numéricos:\n",
      "Columnas categóricas detectadas: ['Country', 'Province', 'City', 'Postal Code', 'Gender', 'Education', 'Marital Status', 'Loyalty Card', 'Enrollment Type']\n"
     ]
    },
    {
     "data": {
      "application/vnd.microsoft.datawrangler.viewer.v0+json": {
       "columns": [
        {
         "name": "index",
         "rawType": "object",
         "type": "string"
        },
        {
         "name": "count",
         "rawType": "object",
         "type": "unknown"
        },
        {
         "name": "unique",
         "rawType": "object",
         "type": "unknown"
        },
        {
         "name": "top",
         "rawType": "object",
         "type": "string"
        },
        {
         "name": "freq",
         "rawType": "object",
         "type": "unknown"
        }
       ],
       "ref": "710cc29c-81cd-49b3-9c21-31c223b2e912",
       "rows": [
        [
         "Country",
         "16737",
         "1",
         "Canada",
         "16737"
        ],
        [
         "Province",
         "16737",
         "11",
         "Ontario",
         "5404"
        ],
        [
         "City",
         "16737",
         "29",
         "Toronto",
         "3351"
        ],
        [
         "Postal Code",
         "16737",
         "55",
         "V6E 3D9",
         "911"
        ],
        [
         "Gender",
         "16737",
         "2",
         "Female",
         "8410"
        ],
        [
         "Education",
         "16737",
         "5",
         "Bachelor",
         "10475"
        ],
        [
         "Marital Status",
         "16737",
         "3",
         "Married",
         "9735"
        ],
        [
         "Loyalty Card",
         "16737",
         "3",
         "Star",
         "7637"
        ],
        [
         "Enrollment Type",
         "16737",
         "2",
         "Standard",
         "15766"
        ]
       ],
       "shape": {
        "columns": 4,
        "rows": 9
       }
      },
      "text/html": [
       "<div>\n",
       "<style scoped>\n",
       "    .dataframe tbody tr th:only-of-type {\n",
       "        vertical-align: middle;\n",
       "    }\n",
       "\n",
       "    .dataframe tbody tr th {\n",
       "        vertical-align: top;\n",
       "    }\n",
       "\n",
       "    .dataframe thead th {\n",
       "        text-align: right;\n",
       "    }\n",
       "</style>\n",
       "<table border=\"1\" class=\"dataframe\">\n",
       "  <thead>\n",
       "    <tr style=\"text-align: right;\">\n",
       "      <th></th>\n",
       "      <th>count</th>\n",
       "      <th>unique</th>\n",
       "      <th>top</th>\n",
       "      <th>freq</th>\n",
       "    </tr>\n",
       "  </thead>\n",
       "  <tbody>\n",
       "    <tr>\n",
       "      <th>Country</th>\n",
       "      <td>16737</td>\n",
       "      <td>1</td>\n",
       "      <td>Canada</td>\n",
       "      <td>16737</td>\n",
       "    </tr>\n",
       "    <tr>\n",
       "      <th>Province</th>\n",
       "      <td>16737</td>\n",
       "      <td>11</td>\n",
       "      <td>Ontario</td>\n",
       "      <td>5404</td>\n",
       "    </tr>\n",
       "    <tr>\n",
       "      <th>City</th>\n",
       "      <td>16737</td>\n",
       "      <td>29</td>\n",
       "      <td>Toronto</td>\n",
       "      <td>3351</td>\n",
       "    </tr>\n",
       "    <tr>\n",
       "      <th>Postal Code</th>\n",
       "      <td>16737</td>\n",
       "      <td>55</td>\n",
       "      <td>V6E 3D9</td>\n",
       "      <td>911</td>\n",
       "    </tr>\n",
       "    <tr>\n",
       "      <th>Gender</th>\n",
       "      <td>16737</td>\n",
       "      <td>2</td>\n",
       "      <td>Female</td>\n",
       "      <td>8410</td>\n",
       "    </tr>\n",
       "    <tr>\n",
       "      <th>Education</th>\n",
       "      <td>16737</td>\n",
       "      <td>5</td>\n",
       "      <td>Bachelor</td>\n",
       "      <td>10475</td>\n",
       "    </tr>\n",
       "    <tr>\n",
       "      <th>Marital Status</th>\n",
       "      <td>16737</td>\n",
       "      <td>3</td>\n",
       "      <td>Married</td>\n",
       "      <td>9735</td>\n",
       "    </tr>\n",
       "    <tr>\n",
       "      <th>Loyalty Card</th>\n",
       "      <td>16737</td>\n",
       "      <td>3</td>\n",
       "      <td>Star</td>\n",
       "      <td>7637</td>\n",
       "    </tr>\n",
       "    <tr>\n",
       "      <th>Enrollment Type</th>\n",
       "      <td>16737</td>\n",
       "      <td>2</td>\n",
       "      <td>Standard</td>\n",
       "      <td>15766</td>\n",
       "    </tr>\n",
       "  </tbody>\n",
       "</table>\n",
       "</div>"
      ],
      "text/plain": [
       "                 count unique       top   freq\n",
       "Country          16737      1    Canada  16737\n",
       "Province         16737     11   Ontario   5404\n",
       "City             16737     29   Toronto   3351\n",
       "Postal Code      16737     55   V6E 3D9    911\n",
       "Gender           16737      2    Female   8410\n",
       "Education        16737      5  Bachelor  10475\n",
       "Marital Status   16737      3   Married   9735\n",
       "Loyalty Card     16737      3      Star   7637\n",
       "Enrollment Type  16737      2  Standard  15766"
      ]
     },
     "metadata": {},
     "output_type": "display_data"
    },
    {
     "name": "stdout",
     "output_type": "stream",
     "text": [
      "________________________________________________________________________________________________________\n",
      "🍂Saber si hay datos únicos:\n"
     ]
    },
    {
     "data": {
      "application/vnd.microsoft.datawrangler.viewer.v0+json": {
       "columns": [
        {
         "name": "index",
         "rawType": "object",
         "type": "string"
        },
        {
         "name": "0",
         "rawType": "int64",
         "type": "integer"
        }
       ],
       "ref": "1520e173-6259-4ab0-805d-df3b27cadeb3",
       "rows": [
        [
         "Loyalty Number",
         "16737"
        ],
        [
         "Country",
         "1"
        ],
        [
         "Province",
         "11"
        ],
        [
         "City",
         "29"
        ],
        [
         "Postal Code",
         "55"
        ],
        [
         "Gender",
         "2"
        ],
        [
         "Education",
         "5"
        ],
        [
         "Salary",
         "5890"
        ],
        [
         "Marital Status",
         "3"
        ],
        [
         "Loyalty Card",
         "3"
        ],
        [
         "CLV",
         "7984"
        ],
        [
         "Enrollment Type",
         "2"
        ],
        [
         "Enrollment Year",
         "7"
        ],
        [
         "Enrollment Month",
         "12"
        ],
        [
         "Cancellation Year",
         "6"
        ],
        [
         "Cancellation Month",
         "12"
        ]
       ],
       "shape": {
        "columns": 1,
        "rows": 16
       }
      },
      "text/plain": [
       "Loyalty Number        16737\n",
       "Country                   1\n",
       "Province                 11\n",
       "City                     29\n",
       "Postal Code              55\n",
       "Gender                    2\n",
       "Education                 5\n",
       "Salary                 5890\n",
       "Marital Status            3\n",
       "Loyalty Card              3\n",
       "CLV                    7984\n",
       "Enrollment Type           2\n",
       "Enrollment Year           7\n",
       "Enrollment Month         12\n",
       "Cancellation Year         6\n",
       "Cancellation Month       12\n",
       "dtype: int64"
      ]
     },
     "metadata": {},
     "output_type": "display_data"
    },
    {
     "name": "stdout",
     "output_type": "stream",
     "text": [
      "________________________________________________________________________________________________________\n",
      "🐖Qué datos son nulos por columnas:\n"
     ]
    },
    {
     "data": {
      "application/vnd.microsoft.datawrangler.viewer.v0+json": {
       "columns": [
        {
         "name": "index",
         "rawType": "object",
         "type": "string"
        },
        {
         "name": "0",
         "rawType": "int64",
         "type": "integer"
        }
       ],
       "ref": "8d252278-5c6c-45ec-a61d-2ddc09f3956d",
       "rows": [
        [
         "Loyalty Number",
         "0"
        ],
        [
         "Country",
         "0"
        ],
        [
         "Province",
         "0"
        ],
        [
         "City",
         "0"
        ],
        [
         "Postal Code",
         "0"
        ],
        [
         "Gender",
         "0"
        ],
        [
         "Education",
         "0"
        ],
        [
         "Salary",
         "4238"
        ],
        [
         "Marital Status",
         "0"
        ],
        [
         "Loyalty Card",
         "0"
        ],
        [
         "CLV",
         "0"
        ],
        [
         "Enrollment Type",
         "0"
        ],
        [
         "Enrollment Year",
         "0"
        ],
        [
         "Enrollment Month",
         "0"
        ],
        [
         "Cancellation Year",
         "14670"
        ],
        [
         "Cancellation Month",
         "14670"
        ]
       ],
       "shape": {
        "columns": 1,
        "rows": 16
       }
      },
      "text/plain": [
       "Loyalty Number            0\n",
       "Country                   0\n",
       "Province                  0\n",
       "City                      0\n",
       "Postal Code               0\n",
       "Gender                    0\n",
       "Education                 0\n",
       "Salary                 4238\n",
       "Marital Status            0\n",
       "Loyalty Card              0\n",
       "CLV                       0\n",
       "Enrollment Type           0\n",
       "Enrollment Year           0\n",
       "Enrollment Month          0\n",
       "Cancellation Year     14670\n",
       "Cancellation Month    14670\n",
       "dtype: int64"
      ]
     },
     "metadata": {},
     "output_type": "display_data"
    },
    {
     "name": "stdout",
     "output_type": "stream",
     "text": [
      "________________________________________________________________________________________________________\n",
      "🐲Filas duplicadas:\n",
      "No hay duplicados\n",
      "________________________________________________________________________________________________________\n",
      "🪹 Columnas constantes (solo 1 valor único):\n",
      "1 columnas con 1 valor único:\n"
     ]
    },
    {
     "data": {
      "text/plain": [
       "Index(['Country'], dtype='object')"
      ]
     },
     "metadata": {},
     "output_type": "display_data"
    },
    {
     "name": "stdout",
     "output_type": "stream",
     "text": [
      "________________________________________________________________________________________________________\n",
      "🚀 Valores únicos en columnas categóricas:\n",
      "🔸 Country\n",
      "-----------------------------\n",
      "['Canada']\n",
      "________________________________________________________________________________________________________\n",
      "🔸 Province\n",
      "-----------------------------\n",
      "['Ontario' 'Alberta' 'British Columbia' 'Quebec' 'Yukon' 'New Brunswick'\n",
      " 'Manitoba' 'Nova Scotia' 'Saskatchewan' 'Newfoundland'\n",
      " 'Prince Edward Island']\n",
      "________________________________________________________________________________________________________\n",
      "🔸 City\n",
      "-----------------------------\n",
      "['Toronto' 'Edmonton' 'Vancouver' 'Hull' 'Whitehorse' 'Trenton' 'Montreal'\n",
      " 'Dawson Creek' 'Quebec City' 'Fredericton' 'Ottawa' 'Tremblant' 'Calgary'\n",
      " 'Thunder Bay' 'Whistler' 'Peace River' 'Winnipeg' 'Sudbury'\n",
      " 'West Vancouver' 'Halifax' 'London' 'Regina' 'Kelowna' \"St. John's\"\n",
      " 'Victoria' 'Kingston' 'Banff' 'Moncton' 'Charlottetown']\n",
      "________________________________________________________________________________________________________\n",
      "🔸 Postal Code\n",
      "-----------------------------\n",
      "['M2Z 4K1' 'T3G 6Y6' 'V6E 3D9' 'P1W 1K4' 'J8Y 3Z5' 'Y2K 6R0' 'P5S 6R4'\n",
      " 'K8V 4B2' 'H2Y 2W2' 'M8Y 4K8' 'U5I 4F1' 'G1B 3L5' 'H4G 3T4' 'M2M 7K8'\n",
      " 'M2M 6J7' 'E3B 2H2' 'M1R 4K3' 'T9G 1W3' 'H2Y 4R4' 'V5R 1W3' 'P1L 8X8'\n",
      " 'K1F 2R2' 'H5Y 2S9' 'V1E 4R6' 'H2T 2J6' 'T3E 2V9' 'H2T 9K8' 'K8T 5M5'\n",
      " 'V6T 1Y8' 'P2T 6G3' 'T9O 2W2' 'V6E 3Z3' 'R6Y 4T5' 'M5V 1G5' 'V6V 8Z3'\n",
      " 'B3J 9S2' 'M5B 3E4' 'R2C 0M5' 'S6J 3G0' 'M2P 4F6' 'P1J 8T7' 'V09 2E9'\n",
      " 'A1C 6H9' 'V10 6T5' 'B3C 2M8' 'M9K 2P4' 'T4V 1D4' 'R3R 3T4' 'S1J 3C5'\n",
      " 'E1A 2A7' 'K1G 4Z0' 'H3T 8L4' 'C1A 6E8' 'H3J 5I6' 'M3R 4K8']\n",
      "________________________________________________________________________________________________________\n",
      "🔸 Gender\n",
      "-----------------------------\n",
      "['Female' 'Male']\n",
      "________________________________________________________________________________________________________\n",
      "🔸 Education\n",
      "-----------------------------\n",
      "['Bachelor' 'College' 'Master' 'High School or Below' 'Doctor']\n",
      "________________________________________________________________________________________________________\n",
      "🔸 Marital Status\n",
      "-----------------------------\n",
      "['Married' 'Divorced' 'Single']\n",
      "________________________________________________________________________________________________________\n",
      "🔸 Loyalty Card\n",
      "-----------------------------\n",
      "['Star' 'Aurora' 'Nova']\n",
      "________________________________________________________________________________________________________\n",
      "🔸 Enrollment Type\n",
      "-----------------------------\n",
      "['Standard' '2018 Promotion']\n",
      "________________________________________________________________________________________________________\n",
      "🧬 Tipos de datos por columna:\n"
     ]
    },
    {
     "data": {
      "application/vnd.microsoft.datawrangler.viewer.v0+json": {
       "columns": [
        {
         "name": "index",
         "rawType": "object",
         "type": "unknown"
        },
        {
         "name": "count",
         "rawType": "int64",
         "type": "integer"
        }
       ],
       "ref": "27313913-0abb-4505-9dfb-bf0ba77bd392",
       "rows": [
        [
         "object",
         "9"
        ],
        [
         "float64",
         "4"
        ],
        [
         "int64",
         "3"
        ]
       ],
       "shape": {
        "columns": 1,
        "rows": 3
       }
      },
      "text/plain": [
       "object     9\n",
       "float64    4\n",
       "int64      3\n",
       "Name: count, dtype: int64"
      ]
     },
     "metadata": {},
     "output_type": "display_data"
    },
    {
     "name": "stdout",
     "output_type": "stream",
     "text": [
      "________________________________________________________________________________________________________\n"
     ]
    }
   ],
   "source": [
    "eda_basico(df_loyalty)"
   ]
  },
  {
   "cell_type": "markdown",
   "id": "4fc8a747",
   "metadata": {},
   "source": [
    "### UNIÓN DE DATAFRAMES\n"
   ]
  },
  {
   "cell_type": "code",
   "execution_count": 14,
   "id": "eb4f5378",
   "metadata": {},
   "outputs": [],
   "source": [
    "def merge(df1,df2):\n",
    "    df_new = df1.merge(df2, how='right')\n",
    "    return df_new"
   ]
  },
  {
   "cell_type": "code",
   "execution_count": 15,
   "id": "9534f984",
   "metadata": {},
   "outputs": [],
   "source": [
    "df = merge(df_flight, df_loyalty)"
   ]
  },
  {
   "cell_type": "markdown",
   "id": "86601987",
   "metadata": {},
   "source": [
    "### EXPLORACIÓN DE DF "
   ]
  },
  {
   "cell_type": "code",
   "execution_count": 16,
   "id": "815b9f44",
   "metadata": {},
   "outputs": [
    {
     "name": "stdout",
     "output_type": "stream",
     "text": [
      "🌷Ejemplo de datos del DF:\n"
     ]
    },
    {
     "data": {
      "application/vnd.microsoft.datawrangler.viewer.v0+json": {
       "columns": [
        {
         "name": "index",
         "rawType": "int64",
         "type": "integer"
        },
        {
         "name": "Loyalty Number",
         "rawType": "int64",
         "type": "integer"
        },
        {
         "name": "Year",
         "rawType": "int64",
         "type": "integer"
        },
        {
         "name": "Month",
         "rawType": "int64",
         "type": "integer"
        },
        {
         "name": "Flights Booked",
         "rawType": "int64",
         "type": "integer"
        },
        {
         "name": "Flights with Companions",
         "rawType": "int64",
         "type": "integer"
        },
        {
         "name": "Total Flights",
         "rawType": "int64",
         "type": "integer"
        },
        {
         "name": "Distance",
         "rawType": "int64",
         "type": "integer"
        },
        {
         "name": "Points Accumulated",
         "rawType": "float64",
         "type": "float"
        },
        {
         "name": "Points Redeemed",
         "rawType": "int64",
         "type": "integer"
        },
        {
         "name": "Dollar Cost Points Redeemed",
         "rawType": "int64",
         "type": "integer"
        },
        {
         "name": "Country",
         "rawType": "object",
         "type": "string"
        },
        {
         "name": "Province",
         "rawType": "object",
         "type": "string"
        },
        {
         "name": "City",
         "rawType": "object",
         "type": "string"
        },
        {
         "name": "Postal Code",
         "rawType": "object",
         "type": "string"
        },
        {
         "name": "Gender",
         "rawType": "object",
         "type": "string"
        },
        {
         "name": "Education",
         "rawType": "object",
         "type": "string"
        },
        {
         "name": "Salary",
         "rawType": "float64",
         "type": "float"
        },
        {
         "name": "Marital Status",
         "rawType": "object",
         "type": "string"
        },
        {
         "name": "Loyalty Card",
         "rawType": "object",
         "type": "string"
        },
        {
         "name": "CLV",
         "rawType": "float64",
         "type": "float"
        },
        {
         "name": "Enrollment Type",
         "rawType": "object",
         "type": "string"
        },
        {
         "name": "Enrollment Year",
         "rawType": "int64",
         "type": "integer"
        },
        {
         "name": "Enrollment Month",
         "rawType": "int64",
         "type": "integer"
        },
        {
         "name": "Cancellation Year",
         "rawType": "float64",
         "type": "float"
        },
        {
         "name": "Cancellation Month",
         "rawType": "float64",
         "type": "float"
        }
       ],
       "ref": "85a8f0e0-19b8-40b0-bc3b-ee1010e8a7b0",
       "rows": [
        [
         "0",
         "480934",
         "2017",
         "1",
         "0",
         "0",
         "0",
         "0",
         "0.0",
         "0",
         "0",
         "Canada",
         "Ontario",
         "Toronto",
         "M2Z 4K1",
         "Female",
         "Bachelor",
         "83236.0",
         "Married",
         "Star",
         "3839.14",
         "Standard",
         "2016",
         "2",
         null,
         null
        ],
        [
         "1",
         "480934",
         "2017",
         "2",
         "3",
         "0",
         "3",
         "2823",
         "282.0",
         "0",
         "0",
         "Canada",
         "Ontario",
         "Toronto",
         "M2Z 4K1",
         "Female",
         "Bachelor",
         "83236.0",
         "Married",
         "Star",
         "3839.14",
         "Standard",
         "2016",
         "2",
         null,
         null
        ],
        [
         "2",
         "480934",
         "2017",
         "3",
         "0",
         "0",
         "0",
         "0",
         "0.0",
         "0",
         "0",
         "Canada",
         "Ontario",
         "Toronto",
         "M2Z 4K1",
         "Female",
         "Bachelor",
         "83236.0",
         "Married",
         "Star",
         "3839.14",
         "Standard",
         "2016",
         "2",
         null,
         null
        ]
       ],
       "shape": {
        "columns": 25,
        "rows": 3
       }
      },
      "text/html": [
       "<div>\n",
       "<style scoped>\n",
       "    .dataframe tbody tr th:only-of-type {\n",
       "        vertical-align: middle;\n",
       "    }\n",
       "\n",
       "    .dataframe tbody tr th {\n",
       "        vertical-align: top;\n",
       "    }\n",
       "\n",
       "    .dataframe thead th {\n",
       "        text-align: right;\n",
       "    }\n",
       "</style>\n",
       "<table border=\"1\" class=\"dataframe\">\n",
       "  <thead>\n",
       "    <tr style=\"text-align: right;\">\n",
       "      <th></th>\n",
       "      <th>Loyalty Number</th>\n",
       "      <th>Year</th>\n",
       "      <th>Month</th>\n",
       "      <th>Flights Booked</th>\n",
       "      <th>Flights with Companions</th>\n",
       "      <th>Total Flights</th>\n",
       "      <th>Distance</th>\n",
       "      <th>Points Accumulated</th>\n",
       "      <th>Points Redeemed</th>\n",
       "      <th>Dollar Cost Points Redeemed</th>\n",
       "      <th>Country</th>\n",
       "      <th>Province</th>\n",
       "      <th>City</th>\n",
       "      <th>Postal Code</th>\n",
       "      <th>Gender</th>\n",
       "      <th>Education</th>\n",
       "      <th>Salary</th>\n",
       "      <th>Marital Status</th>\n",
       "      <th>Loyalty Card</th>\n",
       "      <th>CLV</th>\n",
       "      <th>Enrollment Type</th>\n",
       "      <th>Enrollment Year</th>\n",
       "      <th>Enrollment Month</th>\n",
       "      <th>Cancellation Year</th>\n",
       "      <th>Cancellation Month</th>\n",
       "    </tr>\n",
       "  </thead>\n",
       "  <tbody>\n",
       "    <tr>\n",
       "      <th>0</th>\n",
       "      <td>480934</td>\n",
       "      <td>2017</td>\n",
       "      <td>1</td>\n",
       "      <td>0</td>\n",
       "      <td>0</td>\n",
       "      <td>0</td>\n",
       "      <td>0</td>\n",
       "      <td>0.0</td>\n",
       "      <td>0</td>\n",
       "      <td>0</td>\n",
       "      <td>Canada</td>\n",
       "      <td>Ontario</td>\n",
       "      <td>Toronto</td>\n",
       "      <td>M2Z 4K1</td>\n",
       "      <td>Female</td>\n",
       "      <td>Bachelor</td>\n",
       "      <td>83236.0</td>\n",
       "      <td>Married</td>\n",
       "      <td>Star</td>\n",
       "      <td>3839.14</td>\n",
       "      <td>Standard</td>\n",
       "      <td>2016</td>\n",
       "      <td>2</td>\n",
       "      <td>NaN</td>\n",
       "      <td>NaN</td>\n",
       "    </tr>\n",
       "    <tr>\n",
       "      <th>1</th>\n",
       "      <td>480934</td>\n",
       "      <td>2017</td>\n",
       "      <td>2</td>\n",
       "      <td>3</td>\n",
       "      <td>0</td>\n",
       "      <td>3</td>\n",
       "      <td>2823</td>\n",
       "      <td>282.0</td>\n",
       "      <td>0</td>\n",
       "      <td>0</td>\n",
       "      <td>Canada</td>\n",
       "      <td>Ontario</td>\n",
       "      <td>Toronto</td>\n",
       "      <td>M2Z 4K1</td>\n",
       "      <td>Female</td>\n",
       "      <td>Bachelor</td>\n",
       "      <td>83236.0</td>\n",
       "      <td>Married</td>\n",
       "      <td>Star</td>\n",
       "      <td>3839.14</td>\n",
       "      <td>Standard</td>\n",
       "      <td>2016</td>\n",
       "      <td>2</td>\n",
       "      <td>NaN</td>\n",
       "      <td>NaN</td>\n",
       "    </tr>\n",
       "    <tr>\n",
       "      <th>2</th>\n",
       "      <td>480934</td>\n",
       "      <td>2017</td>\n",
       "      <td>3</td>\n",
       "      <td>0</td>\n",
       "      <td>0</td>\n",
       "      <td>0</td>\n",
       "      <td>0</td>\n",
       "      <td>0.0</td>\n",
       "      <td>0</td>\n",
       "      <td>0</td>\n",
       "      <td>Canada</td>\n",
       "      <td>Ontario</td>\n",
       "      <td>Toronto</td>\n",
       "      <td>M2Z 4K1</td>\n",
       "      <td>Female</td>\n",
       "      <td>Bachelor</td>\n",
       "      <td>83236.0</td>\n",
       "      <td>Married</td>\n",
       "      <td>Star</td>\n",
       "      <td>3839.14</td>\n",
       "      <td>Standard</td>\n",
       "      <td>2016</td>\n",
       "      <td>2</td>\n",
       "      <td>NaN</td>\n",
       "      <td>NaN</td>\n",
       "    </tr>\n",
       "  </tbody>\n",
       "</table>\n",
       "</div>"
      ],
      "text/plain": [
       "   Loyalty Number  Year  Month  Flights Booked  Flights with Companions  \\\n",
       "0          480934  2017      1               0                        0   \n",
       "1          480934  2017      2               3                        0   \n",
       "2          480934  2017      3               0                        0   \n",
       "\n",
       "   Total Flights  Distance  Points Accumulated  Points Redeemed  \\\n",
       "0              0         0                 0.0                0   \n",
       "1              3      2823               282.0                0   \n",
       "2              0         0                 0.0                0   \n",
       "\n",
       "   Dollar Cost Points Redeemed Country Province     City Postal Code  Gender  \\\n",
       "0                            0  Canada  Ontario  Toronto     M2Z 4K1  Female   \n",
       "1                            0  Canada  Ontario  Toronto     M2Z 4K1  Female   \n",
       "2                            0  Canada  Ontario  Toronto     M2Z 4K1  Female   \n",
       "\n",
       "  Education   Salary Marital Status Loyalty Card      CLV Enrollment Type  \\\n",
       "0  Bachelor  83236.0        Married         Star  3839.14        Standard   \n",
       "1  Bachelor  83236.0        Married         Star  3839.14        Standard   \n",
       "2  Bachelor  83236.0        Married         Star  3839.14        Standard   \n",
       "\n",
       "   Enrollment Year  Enrollment Month  Cancellation Year  Cancellation Month  \n",
       "0             2016                 2                NaN                 NaN  \n",
       "1             2016                 2                NaN                 NaN  \n",
       "2             2016                 2                NaN                 NaN  "
      ]
     },
     "metadata": {},
     "output_type": "display_data"
    },
    {
     "data": {
      "application/vnd.microsoft.datawrangler.viewer.v0+json": {
       "columns": [
        {
         "name": "index",
         "rawType": "int64",
         "type": "integer"
        },
        {
         "name": "Loyalty Number",
         "rawType": "int64",
         "type": "integer"
        },
        {
         "name": "Year",
         "rawType": "int64",
         "type": "integer"
        },
        {
         "name": "Month",
         "rawType": "int64",
         "type": "integer"
        },
        {
         "name": "Flights Booked",
         "rawType": "int64",
         "type": "integer"
        },
        {
         "name": "Flights with Companions",
         "rawType": "int64",
         "type": "integer"
        },
        {
         "name": "Total Flights",
         "rawType": "int64",
         "type": "integer"
        },
        {
         "name": "Distance",
         "rawType": "int64",
         "type": "integer"
        },
        {
         "name": "Points Accumulated",
         "rawType": "float64",
         "type": "float"
        },
        {
         "name": "Points Redeemed",
         "rawType": "int64",
         "type": "integer"
        },
        {
         "name": "Dollar Cost Points Redeemed",
         "rawType": "int64",
         "type": "integer"
        },
        {
         "name": "Country",
         "rawType": "object",
         "type": "string"
        },
        {
         "name": "Province",
         "rawType": "object",
         "type": "string"
        },
        {
         "name": "City",
         "rawType": "object",
         "type": "string"
        },
        {
         "name": "Postal Code",
         "rawType": "object",
         "type": "string"
        },
        {
         "name": "Gender",
         "rawType": "object",
         "type": "string"
        },
        {
         "name": "Education",
         "rawType": "object",
         "type": "string"
        },
        {
         "name": "Salary",
         "rawType": "float64",
         "type": "float"
        },
        {
         "name": "Marital Status",
         "rawType": "object",
         "type": "string"
        },
        {
         "name": "Loyalty Card",
         "rawType": "object",
         "type": "string"
        },
        {
         "name": "CLV",
         "rawType": "float64",
         "type": "float"
        },
        {
         "name": "Enrollment Type",
         "rawType": "object",
         "type": "string"
        },
        {
         "name": "Enrollment Year",
         "rawType": "int64",
         "type": "integer"
        },
        {
         "name": "Enrollment Month",
         "rawType": "int64",
         "type": "integer"
        },
        {
         "name": "Cancellation Year",
         "rawType": "float64",
         "type": "float"
        },
        {
         "name": "Cancellation Month",
         "rawType": "float64",
         "type": "float"
        }
       ],
       "ref": "1d8336f8-e900-4553-b6a3-881fdbff2ccc",
       "rows": [
        [
         "405621",
         "652627",
         "2018",
         "10",
         "0",
         "0",
         "0",
         "0",
         "0.0",
         "0",
         "0",
         "Canada",
         "Manitoba",
         "Winnipeg",
         "R2C 0M5",
         "Female",
         "Bachelor",
         "75049.0",
         "Married",
         "Star",
         "83325.38",
         "Standard",
         "2015",
         "12",
         "2016.0",
         "8.0"
        ],
        [
         "405622",
         "652627",
         "2018",
         "11",
         "0",
         "0",
         "0",
         "0",
         "0.0",
         "0",
         "0",
         "Canada",
         "Manitoba",
         "Winnipeg",
         "R2C 0M5",
         "Female",
         "Bachelor",
         "75049.0",
         "Married",
         "Star",
         "83325.38",
         "Standard",
         "2015",
         "12",
         "2016.0",
         "8.0"
        ],
        [
         "405623",
         "652627",
         "2018",
         "12",
         "0",
         "0",
         "0",
         "0",
         "0.0",
         "0",
         "0",
         "Canada",
         "Manitoba",
         "Winnipeg",
         "R2C 0M5",
         "Female",
         "Bachelor",
         "75049.0",
         "Married",
         "Star",
         "83325.38",
         "Standard",
         "2015",
         "12",
         "2016.0",
         "8.0"
        ]
       ],
       "shape": {
        "columns": 25,
        "rows": 3
       }
      },
      "text/html": [
       "<div>\n",
       "<style scoped>\n",
       "    .dataframe tbody tr th:only-of-type {\n",
       "        vertical-align: middle;\n",
       "    }\n",
       "\n",
       "    .dataframe tbody tr th {\n",
       "        vertical-align: top;\n",
       "    }\n",
       "\n",
       "    .dataframe thead th {\n",
       "        text-align: right;\n",
       "    }\n",
       "</style>\n",
       "<table border=\"1\" class=\"dataframe\">\n",
       "  <thead>\n",
       "    <tr style=\"text-align: right;\">\n",
       "      <th></th>\n",
       "      <th>Loyalty Number</th>\n",
       "      <th>Year</th>\n",
       "      <th>Month</th>\n",
       "      <th>Flights Booked</th>\n",
       "      <th>Flights with Companions</th>\n",
       "      <th>Total Flights</th>\n",
       "      <th>Distance</th>\n",
       "      <th>Points Accumulated</th>\n",
       "      <th>Points Redeemed</th>\n",
       "      <th>Dollar Cost Points Redeemed</th>\n",
       "      <th>Country</th>\n",
       "      <th>Province</th>\n",
       "      <th>City</th>\n",
       "      <th>Postal Code</th>\n",
       "      <th>Gender</th>\n",
       "      <th>Education</th>\n",
       "      <th>Salary</th>\n",
       "      <th>Marital Status</th>\n",
       "      <th>Loyalty Card</th>\n",
       "      <th>CLV</th>\n",
       "      <th>Enrollment Type</th>\n",
       "      <th>Enrollment Year</th>\n",
       "      <th>Enrollment Month</th>\n",
       "      <th>Cancellation Year</th>\n",
       "      <th>Cancellation Month</th>\n",
       "    </tr>\n",
       "  </thead>\n",
       "  <tbody>\n",
       "    <tr>\n",
       "      <th>405621</th>\n",
       "      <td>652627</td>\n",
       "      <td>2018</td>\n",
       "      <td>10</td>\n",
       "      <td>0</td>\n",
       "      <td>0</td>\n",
       "      <td>0</td>\n",
       "      <td>0</td>\n",
       "      <td>0.0</td>\n",
       "      <td>0</td>\n",
       "      <td>0</td>\n",
       "      <td>Canada</td>\n",
       "      <td>Manitoba</td>\n",
       "      <td>Winnipeg</td>\n",
       "      <td>R2C 0M5</td>\n",
       "      <td>Female</td>\n",
       "      <td>Bachelor</td>\n",
       "      <td>75049.0</td>\n",
       "      <td>Married</td>\n",
       "      <td>Star</td>\n",
       "      <td>83325.38</td>\n",
       "      <td>Standard</td>\n",
       "      <td>2015</td>\n",
       "      <td>12</td>\n",
       "      <td>2016.0</td>\n",
       "      <td>8.0</td>\n",
       "    </tr>\n",
       "    <tr>\n",
       "      <th>405622</th>\n",
       "      <td>652627</td>\n",
       "      <td>2018</td>\n",
       "      <td>11</td>\n",
       "      <td>0</td>\n",
       "      <td>0</td>\n",
       "      <td>0</td>\n",
       "      <td>0</td>\n",
       "      <td>0.0</td>\n",
       "      <td>0</td>\n",
       "      <td>0</td>\n",
       "      <td>Canada</td>\n",
       "      <td>Manitoba</td>\n",
       "      <td>Winnipeg</td>\n",
       "      <td>R2C 0M5</td>\n",
       "      <td>Female</td>\n",
       "      <td>Bachelor</td>\n",
       "      <td>75049.0</td>\n",
       "      <td>Married</td>\n",
       "      <td>Star</td>\n",
       "      <td>83325.38</td>\n",
       "      <td>Standard</td>\n",
       "      <td>2015</td>\n",
       "      <td>12</td>\n",
       "      <td>2016.0</td>\n",
       "      <td>8.0</td>\n",
       "    </tr>\n",
       "    <tr>\n",
       "      <th>405623</th>\n",
       "      <td>652627</td>\n",
       "      <td>2018</td>\n",
       "      <td>12</td>\n",
       "      <td>0</td>\n",
       "      <td>0</td>\n",
       "      <td>0</td>\n",
       "      <td>0</td>\n",
       "      <td>0.0</td>\n",
       "      <td>0</td>\n",
       "      <td>0</td>\n",
       "      <td>Canada</td>\n",
       "      <td>Manitoba</td>\n",
       "      <td>Winnipeg</td>\n",
       "      <td>R2C 0M5</td>\n",
       "      <td>Female</td>\n",
       "      <td>Bachelor</td>\n",
       "      <td>75049.0</td>\n",
       "      <td>Married</td>\n",
       "      <td>Star</td>\n",
       "      <td>83325.38</td>\n",
       "      <td>Standard</td>\n",
       "      <td>2015</td>\n",
       "      <td>12</td>\n",
       "      <td>2016.0</td>\n",
       "      <td>8.0</td>\n",
       "    </tr>\n",
       "  </tbody>\n",
       "</table>\n",
       "</div>"
      ],
      "text/plain": [
       "        Loyalty Number  Year  Month  Flights Booked  Flights with Companions  \\\n",
       "405621          652627  2018     10               0                        0   \n",
       "405622          652627  2018     11               0                        0   \n",
       "405623          652627  2018     12               0                        0   \n",
       "\n",
       "        Total Flights  Distance  Points Accumulated  Points Redeemed  \\\n",
       "405621              0         0                 0.0                0   \n",
       "405622              0         0                 0.0                0   \n",
       "405623              0         0                 0.0                0   \n",
       "\n",
       "        Dollar Cost Points Redeemed Country  Province      City Postal Code  \\\n",
       "405621                            0  Canada  Manitoba  Winnipeg     R2C 0M5   \n",
       "405622                            0  Canada  Manitoba  Winnipeg     R2C 0M5   \n",
       "405623                            0  Canada  Manitoba  Winnipeg     R2C 0M5   \n",
       "\n",
       "        Gender Education   Salary Marital Status Loyalty Card       CLV  \\\n",
       "405621  Female  Bachelor  75049.0        Married         Star  83325.38   \n",
       "405622  Female  Bachelor  75049.0        Married         Star  83325.38   \n",
       "405623  Female  Bachelor  75049.0        Married         Star  83325.38   \n",
       "\n",
       "       Enrollment Type  Enrollment Year  Enrollment Month  Cancellation Year  \\\n",
       "405621        Standard             2015                12             2016.0   \n",
       "405622        Standard             2015                12             2016.0   \n",
       "405623        Standard             2015                12             2016.0   \n",
       "\n",
       "        Cancellation Month  \n",
       "405621                 8.0  \n",
       "405622                 8.0  \n",
       "405623                 8.0  "
      ]
     },
     "metadata": {},
     "output_type": "display_data"
    },
    {
     "data": {
      "application/vnd.microsoft.datawrangler.viewer.v0+json": {
       "columns": [
        {
         "name": "index",
         "rawType": "int64",
         "type": "integer"
        },
        {
         "name": "Loyalty Number",
         "rawType": "int64",
         "type": "integer"
        },
        {
         "name": "Year",
         "rawType": "int64",
         "type": "integer"
        },
        {
         "name": "Month",
         "rawType": "int64",
         "type": "integer"
        },
        {
         "name": "Flights Booked",
         "rawType": "int64",
         "type": "integer"
        },
        {
         "name": "Flights with Companions",
         "rawType": "int64",
         "type": "integer"
        },
        {
         "name": "Total Flights",
         "rawType": "int64",
         "type": "integer"
        },
        {
         "name": "Distance",
         "rawType": "int64",
         "type": "integer"
        },
        {
         "name": "Points Accumulated",
         "rawType": "float64",
         "type": "float"
        },
        {
         "name": "Points Redeemed",
         "rawType": "int64",
         "type": "integer"
        },
        {
         "name": "Dollar Cost Points Redeemed",
         "rawType": "int64",
         "type": "integer"
        },
        {
         "name": "Country",
         "rawType": "object",
         "type": "string"
        },
        {
         "name": "Province",
         "rawType": "object",
         "type": "string"
        },
        {
         "name": "City",
         "rawType": "object",
         "type": "string"
        },
        {
         "name": "Postal Code",
         "rawType": "object",
         "type": "string"
        },
        {
         "name": "Gender",
         "rawType": "object",
         "type": "string"
        },
        {
         "name": "Education",
         "rawType": "object",
         "type": "string"
        },
        {
         "name": "Salary",
         "rawType": "float64",
         "type": "float"
        },
        {
         "name": "Marital Status",
         "rawType": "object",
         "type": "string"
        },
        {
         "name": "Loyalty Card",
         "rawType": "object",
         "type": "string"
        },
        {
         "name": "CLV",
         "rawType": "float64",
         "type": "float"
        },
        {
         "name": "Enrollment Type",
         "rawType": "object",
         "type": "string"
        },
        {
         "name": "Enrollment Year",
         "rawType": "int64",
         "type": "integer"
        },
        {
         "name": "Enrollment Month",
         "rawType": "int64",
         "type": "integer"
        },
        {
         "name": "Cancellation Year",
         "rawType": "float64",
         "type": "float"
        },
        {
         "name": "Cancellation Month",
         "rawType": "float64",
         "type": "float"
        }
       ],
       "ref": "c2657b84-f597-424c-866f-8f03ab5fc2ac",
       "rows": [
        [
         "350799",
         "196905",
         "2018",
         "3",
         "13",
         "0",
         "13",
         "2860",
         "308.88",
         "0",
         "0",
         "Canada",
         "Quebec",
         "Tremblant",
         "H5Y 2S9",
         "Female",
         "Bachelor",
         "75462.0",
         "Married",
         "Star",
         "7153.67",
         "Standard",
         "2014",
         "4",
         null,
         null
        ],
        [
         "13581",
         "368292",
         "2018",
         "10",
         "0",
         "0",
         "0",
         "0",
         "0.0",
         "0",
         "0",
         "Canada",
         "Alberta",
         "Edmonton",
         "T9G 1W3",
         "Female",
         "College",
         null,
         "Married",
         "Star",
         "4770.26",
         "Standard",
         "2016",
         "11",
         "2017.0",
         "2.0"
        ],
        [
         "243018",
         "830673",
         "2018",
         "8",
         "7",
         "0",
         "7",
         "3318",
         "331.0",
         "0",
         "0",
         "Canada",
         "Ontario",
         "Trenton",
         "K8V 4B2",
         "Female",
         "College",
         null,
         "Married",
         "Star",
         "2229.36",
         "Standard",
         "2014",
         "3",
         null,
         null
        ]
       ],
       "shape": {
        "columns": 25,
        "rows": 3
       }
      },
      "text/html": [
       "<div>\n",
       "<style scoped>\n",
       "    .dataframe tbody tr th:only-of-type {\n",
       "        vertical-align: middle;\n",
       "    }\n",
       "\n",
       "    .dataframe tbody tr th {\n",
       "        vertical-align: top;\n",
       "    }\n",
       "\n",
       "    .dataframe thead th {\n",
       "        text-align: right;\n",
       "    }\n",
       "</style>\n",
       "<table border=\"1\" class=\"dataframe\">\n",
       "  <thead>\n",
       "    <tr style=\"text-align: right;\">\n",
       "      <th></th>\n",
       "      <th>Loyalty Number</th>\n",
       "      <th>Year</th>\n",
       "      <th>Month</th>\n",
       "      <th>Flights Booked</th>\n",
       "      <th>Flights with Companions</th>\n",
       "      <th>Total Flights</th>\n",
       "      <th>Distance</th>\n",
       "      <th>Points Accumulated</th>\n",
       "      <th>Points Redeemed</th>\n",
       "      <th>Dollar Cost Points Redeemed</th>\n",
       "      <th>Country</th>\n",
       "      <th>Province</th>\n",
       "      <th>City</th>\n",
       "      <th>Postal Code</th>\n",
       "      <th>Gender</th>\n",
       "      <th>Education</th>\n",
       "      <th>Salary</th>\n",
       "      <th>Marital Status</th>\n",
       "      <th>Loyalty Card</th>\n",
       "      <th>CLV</th>\n",
       "      <th>Enrollment Type</th>\n",
       "      <th>Enrollment Year</th>\n",
       "      <th>Enrollment Month</th>\n",
       "      <th>Cancellation Year</th>\n",
       "      <th>Cancellation Month</th>\n",
       "    </tr>\n",
       "  </thead>\n",
       "  <tbody>\n",
       "    <tr>\n",
       "      <th>350799</th>\n",
       "      <td>196905</td>\n",
       "      <td>2018</td>\n",
       "      <td>3</td>\n",
       "      <td>13</td>\n",
       "      <td>0</td>\n",
       "      <td>13</td>\n",
       "      <td>2860</td>\n",
       "      <td>308.88</td>\n",
       "      <td>0</td>\n",
       "      <td>0</td>\n",
       "      <td>Canada</td>\n",
       "      <td>Quebec</td>\n",
       "      <td>Tremblant</td>\n",
       "      <td>H5Y 2S9</td>\n",
       "      <td>Female</td>\n",
       "      <td>Bachelor</td>\n",
       "      <td>75462.0</td>\n",
       "      <td>Married</td>\n",
       "      <td>Star</td>\n",
       "      <td>7153.67</td>\n",
       "      <td>Standard</td>\n",
       "      <td>2014</td>\n",
       "      <td>4</td>\n",
       "      <td>NaN</td>\n",
       "      <td>NaN</td>\n",
       "    </tr>\n",
       "    <tr>\n",
       "      <th>13581</th>\n",
       "      <td>368292</td>\n",
       "      <td>2018</td>\n",
       "      <td>10</td>\n",
       "      <td>0</td>\n",
       "      <td>0</td>\n",
       "      <td>0</td>\n",
       "      <td>0</td>\n",
       "      <td>0.00</td>\n",
       "      <td>0</td>\n",
       "      <td>0</td>\n",
       "      <td>Canada</td>\n",
       "      <td>Alberta</td>\n",
       "      <td>Edmonton</td>\n",
       "      <td>T9G 1W3</td>\n",
       "      <td>Female</td>\n",
       "      <td>College</td>\n",
       "      <td>NaN</td>\n",
       "      <td>Married</td>\n",
       "      <td>Star</td>\n",
       "      <td>4770.26</td>\n",
       "      <td>Standard</td>\n",
       "      <td>2016</td>\n",
       "      <td>11</td>\n",
       "      <td>2017.0</td>\n",
       "      <td>2.0</td>\n",
       "    </tr>\n",
       "    <tr>\n",
       "      <th>243018</th>\n",
       "      <td>830673</td>\n",
       "      <td>2018</td>\n",
       "      <td>8</td>\n",
       "      <td>7</td>\n",
       "      <td>0</td>\n",
       "      <td>7</td>\n",
       "      <td>3318</td>\n",
       "      <td>331.00</td>\n",
       "      <td>0</td>\n",
       "      <td>0</td>\n",
       "      <td>Canada</td>\n",
       "      <td>Ontario</td>\n",
       "      <td>Trenton</td>\n",
       "      <td>K8V 4B2</td>\n",
       "      <td>Female</td>\n",
       "      <td>College</td>\n",
       "      <td>NaN</td>\n",
       "      <td>Married</td>\n",
       "      <td>Star</td>\n",
       "      <td>2229.36</td>\n",
       "      <td>Standard</td>\n",
       "      <td>2014</td>\n",
       "      <td>3</td>\n",
       "      <td>NaN</td>\n",
       "      <td>NaN</td>\n",
       "    </tr>\n",
       "  </tbody>\n",
       "</table>\n",
       "</div>"
      ],
      "text/plain": [
       "        Loyalty Number  Year  Month  Flights Booked  Flights with Companions  \\\n",
       "350799          196905  2018      3              13                        0   \n",
       "13581           368292  2018     10               0                        0   \n",
       "243018          830673  2018      8               7                        0   \n",
       "\n",
       "        Total Flights  Distance  Points Accumulated  Points Redeemed  \\\n",
       "350799             13      2860              308.88                0   \n",
       "13581               0         0                0.00                0   \n",
       "243018              7      3318              331.00                0   \n",
       "\n",
       "        Dollar Cost Points Redeemed Country Province       City Postal Code  \\\n",
       "350799                            0  Canada   Quebec  Tremblant     H5Y 2S9   \n",
       "13581                             0  Canada  Alberta   Edmonton     T9G 1W3   \n",
       "243018                            0  Canada  Ontario    Trenton     K8V 4B2   \n",
       "\n",
       "        Gender Education   Salary Marital Status Loyalty Card      CLV  \\\n",
       "350799  Female  Bachelor  75462.0        Married         Star  7153.67   \n",
       "13581   Female   College      NaN        Married         Star  4770.26   \n",
       "243018  Female   College      NaN        Married         Star  2229.36   \n",
       "\n",
       "       Enrollment Type  Enrollment Year  Enrollment Month  Cancellation Year  \\\n",
       "350799        Standard             2014                 4                NaN   \n",
       "13581         Standard             2016                11             2017.0   \n",
       "243018        Standard             2014                 3                NaN   \n",
       "\n",
       "        Cancellation Month  \n",
       "350799                 NaN  \n",
       "13581                  2.0  \n",
       "243018                 NaN  "
      ]
     },
     "metadata": {},
     "output_type": "display_data"
    },
    {
     "name": "stdout",
     "output_type": "stream",
     "text": [
      "________________________________________________________________________________________________________\n",
      "🌻Número de Filas:\n"
     ]
    },
    {
     "data": {
      "text/plain": [
       "405624"
      ]
     },
     "metadata": {},
     "output_type": "display_data"
    },
    {
     "name": "stdout",
     "output_type": "stream",
     "text": [
      "________________________________________________________________________________________________________\n",
      "🌱Número de Columnas:\n"
     ]
    },
    {
     "data": {
      "text/plain": [
       "25"
      ]
     },
     "metadata": {},
     "output_type": "display_data"
    },
    {
     "name": "stdout",
     "output_type": "stream",
     "text": [
      "________________________________________________________________________________________________________\n",
      "🌼Información de la tabla:\n",
      "<class 'pandas.core.frame.DataFrame'>\n",
      "RangeIndex: 405624 entries, 0 to 405623\n",
      "Data columns (total 25 columns):\n",
      " #   Column                       Non-Null Count   Dtype  \n",
      "---  ------                       --------------   -----  \n",
      " 0   Loyalty Number               405624 non-null  int64  \n",
      " 1   Year                         405624 non-null  int64  \n",
      " 2   Month                        405624 non-null  int64  \n",
      " 3   Flights Booked               405624 non-null  int64  \n",
      " 4   Flights with Companions      405624 non-null  int64  \n",
      " 5   Total Flights                405624 non-null  int64  \n",
      " 6   Distance                     405624 non-null  int64  \n",
      " 7   Points Accumulated           405624 non-null  float64\n",
      " 8   Points Redeemed              405624 non-null  int64  \n",
      " 9   Dollar Cost Points Redeemed  405624 non-null  int64  \n",
      " 10  Country                      405624 non-null  object \n",
      " 11  Province                     405624 non-null  object \n",
      " 12  City                         405624 non-null  object \n",
      " 13  Postal Code                  405624 non-null  object \n",
      " 14  Gender                       405624 non-null  object \n",
      " 15  Education                    405624 non-null  object \n",
      " 16  Salary                       302952 non-null  float64\n",
      " 17  Marital Status               405624 non-null  object \n",
      " 18  Loyalty Card                 405624 non-null  object \n",
      " 19  CLV                          405624 non-null  float64\n",
      " 20  Enrollment Type              405624 non-null  object \n",
      " 21  Enrollment Year              405624 non-null  int64  \n",
      " 22  Enrollment Month             405624 non-null  int64  \n",
      " 23  Cancellation Year            50064 non-null   float64\n",
      " 24  Cancellation Month           50064 non-null   float64\n",
      "dtypes: float64(5), int64(11), object(9)\n",
      "memory usage: 77.4+ MB\n"
     ]
    },
    {
     "data": {
      "text/plain": [
       "None"
      ]
     },
     "metadata": {},
     "output_type": "display_data"
    },
    {
     "name": "stdout",
     "output_type": "stream",
     "text": [
      "________________________________________________________________________________________________________\n",
      "🌑Nombre de las columnas:\n"
     ]
    },
    {
     "data": {
      "text/plain": [
       "Index(['Loyalty Number', 'Year', 'Month', 'Flights Booked',\n",
       "       'Flights with Companions', 'Total Flights', 'Distance',\n",
       "       'Points Accumulated', 'Points Redeemed', 'Dollar Cost Points Redeemed',\n",
       "       'Country', 'Province', 'City', 'Postal Code', 'Gender', 'Education',\n",
       "       'Salary', 'Marital Status', 'Loyalty Card', 'CLV', 'Enrollment Type',\n",
       "       'Enrollment Year', 'Enrollment Month', 'Cancellation Year',\n",
       "       'Cancellation Month'],\n",
       "      dtype='object')"
      ]
     },
     "metadata": {},
     "output_type": "display_data"
    },
    {
     "name": "stdout",
     "output_type": "stream",
     "text": [
      "________________________________________________________________________________________________________\n",
      "🍄Descripción de los datos numéricos:\n"
     ]
    },
    {
     "data": {
      "application/vnd.microsoft.datawrangler.viewer.v0+json": {
       "columns": [
        {
         "name": "index",
         "rawType": "object",
         "type": "string"
        },
        {
         "name": "count",
         "rawType": "float64",
         "type": "float"
        },
        {
         "name": "mean",
         "rawType": "float64",
         "type": "float"
        },
        {
         "name": "std",
         "rawType": "float64",
         "type": "float"
        },
        {
         "name": "min",
         "rawType": "float64",
         "type": "float"
        },
        {
         "name": "25%",
         "rawType": "float64",
         "type": "float"
        },
        {
         "name": "50%",
         "rawType": "float64",
         "type": "float"
        },
        {
         "name": "75%",
         "rawType": "float64",
         "type": "float"
        },
        {
         "name": "max",
         "rawType": "float64",
         "type": "float"
        }
       ],
       "ref": "9e28029f-e324-41d3-802c-0be363452eaa",
       "rows": [
        [
         "Loyalty Number",
         "405624.0",
         "550037.8730844329",
         "258935.28696853667",
         "100018.0",
         "326961.0",
         "550834.0",
         "772194.0",
         "999986.0"
        ],
        [
         "Year",
         "405624.0",
         "2017.5",
         "0.5000006163354788",
         "2017.0",
         "2017.0",
         "2017.5",
         "2018.0",
         "2018.0"
        ],
        [
         "Month",
         "405624.0",
         "6.5",
         "3.4520567847795607",
         "1.0",
         "3.75",
         "6.5",
         "9.25",
         "12.0"
        ],
        [
         "Flights Booked",
         "405624.0",
         "4.115052363765457",
         "5.225518362148539",
         "0.0",
         "0.0",
         "1.0",
         "8.0",
         "21.0"
        ],
        [
         "Flights with Companions",
         "405624.0",
         "1.031805317239611",
         "2.0768693438669175",
         "0.0",
         "0.0",
         "0.0",
         "1.0",
         "11.0"
        ],
        [
         "Total Flights",
         "405624.0",
         "5.146857681005069",
         "6.521227424260421",
         "0.0",
         "0.0",
         "1.0",
         "10.0",
         "32.0"
        ],
        [
         "Distance",
         "405624.0",
         "1208.880058872256",
         "1433.1553197945336",
         "0.0",
         "0.0",
         "488.0",
         "2336.0",
         "6293.0"
        ],
        [
         "Points Accumulated",
         "405624.0",
         "123.6927209681873",
         "146.59983145499058",
         "0.0",
         "0.0",
         "50.0",
         "239.0",
         "676.5"
        ],
        [
         "Points Redeemed",
         "405624.0",
         "30.696871979961738",
         "125.48604931787138",
         "0.0",
         "0.0",
         "0.0",
         "0.0",
         "876.0"
        ],
        [
         "Dollar Cost Points Redeemed",
         "405624.0",
         "2.484502889375382",
         "10.150037777694216",
         "0.0",
         "0.0",
         "0.0",
         "0.0",
         "71.0"
        ],
        [
         "Salary",
         "302952.0",
         "79268.82595262615",
         "34992.13350845437",
         "-58486.0",
         "59262.0",
         "73479.0",
         "88612.0",
         "407228.0"
        ],
        [
         "CLV",
         "405624.0",
         "7991.97622566712",
         "6863.663856844572",
         "1898.01",
         "3985.32",
         "5776.34",
         "8936.82",
         "83325.38"
        ],
        [
         "Enrollment Year",
         "405624.0",
         "2015.252529436128",
         "1.9794274692093914",
         "2012.0",
         "2014.0",
         "2015.0",
         "2017.0",
         "2018.0"
        ],
        [
         "Enrollment Month",
         "405624.0",
         "6.6680078101887466",
         "3.399766046720953",
         "1.0",
         "4.0",
         "7.0",
         "10.0",
         "12.0"
        ],
        [
         "Cancellation Year",
         "50064.0",
         "2016.4995206136145",
         "1.3843356257199668",
         "2013.0",
         "2016.0",
         "2017.0",
         "2018.0",
         "2018.0"
        ],
        [
         "Cancellation Month",
         "50064.0",
         "6.966442953020135",
         "3.448299597320286",
         "1.0",
         "4.0",
         "7.0",
         "10.0",
         "12.0"
        ]
       ],
       "shape": {
        "columns": 8,
        "rows": 16
       }
      },
      "text/html": [
       "<div>\n",
       "<style scoped>\n",
       "    .dataframe tbody tr th:only-of-type {\n",
       "        vertical-align: middle;\n",
       "    }\n",
       "\n",
       "    .dataframe tbody tr th {\n",
       "        vertical-align: top;\n",
       "    }\n",
       "\n",
       "    .dataframe thead th {\n",
       "        text-align: right;\n",
       "    }\n",
       "</style>\n",
       "<table border=\"1\" class=\"dataframe\">\n",
       "  <thead>\n",
       "    <tr style=\"text-align: right;\">\n",
       "      <th></th>\n",
       "      <th>count</th>\n",
       "      <th>mean</th>\n",
       "      <th>std</th>\n",
       "      <th>min</th>\n",
       "      <th>25%</th>\n",
       "      <th>50%</th>\n",
       "      <th>75%</th>\n",
       "      <th>max</th>\n",
       "    </tr>\n",
       "  </thead>\n",
       "  <tbody>\n",
       "    <tr>\n",
       "      <th>Loyalty Number</th>\n",
       "      <td>405624.0</td>\n",
       "      <td>550037.873084</td>\n",
       "      <td>258935.286969</td>\n",
       "      <td>100018.00</td>\n",
       "      <td>326961.00</td>\n",
       "      <td>550834.00</td>\n",
       "      <td>772194.00</td>\n",
       "      <td>999986.00</td>\n",
       "    </tr>\n",
       "    <tr>\n",
       "      <th>Year</th>\n",
       "      <td>405624.0</td>\n",
       "      <td>2017.500000</td>\n",
       "      <td>0.500001</td>\n",
       "      <td>2017.00</td>\n",
       "      <td>2017.00</td>\n",
       "      <td>2017.50</td>\n",
       "      <td>2018.00</td>\n",
       "      <td>2018.00</td>\n",
       "    </tr>\n",
       "    <tr>\n",
       "      <th>Month</th>\n",
       "      <td>405624.0</td>\n",
       "      <td>6.500000</td>\n",
       "      <td>3.452057</td>\n",
       "      <td>1.00</td>\n",
       "      <td>3.75</td>\n",
       "      <td>6.50</td>\n",
       "      <td>9.25</td>\n",
       "      <td>12.00</td>\n",
       "    </tr>\n",
       "    <tr>\n",
       "      <th>Flights Booked</th>\n",
       "      <td>405624.0</td>\n",
       "      <td>4.115052</td>\n",
       "      <td>5.225518</td>\n",
       "      <td>0.00</td>\n",
       "      <td>0.00</td>\n",
       "      <td>1.00</td>\n",
       "      <td>8.00</td>\n",
       "      <td>21.00</td>\n",
       "    </tr>\n",
       "    <tr>\n",
       "      <th>Flights with Companions</th>\n",
       "      <td>405624.0</td>\n",
       "      <td>1.031805</td>\n",
       "      <td>2.076869</td>\n",
       "      <td>0.00</td>\n",
       "      <td>0.00</td>\n",
       "      <td>0.00</td>\n",
       "      <td>1.00</td>\n",
       "      <td>11.00</td>\n",
       "    </tr>\n",
       "    <tr>\n",
       "      <th>Total Flights</th>\n",
       "      <td>405624.0</td>\n",
       "      <td>5.146858</td>\n",
       "      <td>6.521227</td>\n",
       "      <td>0.00</td>\n",
       "      <td>0.00</td>\n",
       "      <td>1.00</td>\n",
       "      <td>10.00</td>\n",
       "      <td>32.00</td>\n",
       "    </tr>\n",
       "    <tr>\n",
       "      <th>Distance</th>\n",
       "      <td>405624.0</td>\n",
       "      <td>1208.880059</td>\n",
       "      <td>1433.155320</td>\n",
       "      <td>0.00</td>\n",
       "      <td>0.00</td>\n",
       "      <td>488.00</td>\n",
       "      <td>2336.00</td>\n",
       "      <td>6293.00</td>\n",
       "    </tr>\n",
       "    <tr>\n",
       "      <th>Points Accumulated</th>\n",
       "      <td>405624.0</td>\n",
       "      <td>123.692721</td>\n",
       "      <td>146.599831</td>\n",
       "      <td>0.00</td>\n",
       "      <td>0.00</td>\n",
       "      <td>50.00</td>\n",
       "      <td>239.00</td>\n",
       "      <td>676.50</td>\n",
       "    </tr>\n",
       "    <tr>\n",
       "      <th>Points Redeemed</th>\n",
       "      <td>405624.0</td>\n",
       "      <td>30.696872</td>\n",
       "      <td>125.486049</td>\n",
       "      <td>0.00</td>\n",
       "      <td>0.00</td>\n",
       "      <td>0.00</td>\n",
       "      <td>0.00</td>\n",
       "      <td>876.00</td>\n",
       "    </tr>\n",
       "    <tr>\n",
       "      <th>Dollar Cost Points Redeemed</th>\n",
       "      <td>405624.0</td>\n",
       "      <td>2.484503</td>\n",
       "      <td>10.150038</td>\n",
       "      <td>0.00</td>\n",
       "      <td>0.00</td>\n",
       "      <td>0.00</td>\n",
       "      <td>0.00</td>\n",
       "      <td>71.00</td>\n",
       "    </tr>\n",
       "    <tr>\n",
       "      <th>Salary</th>\n",
       "      <td>302952.0</td>\n",
       "      <td>79268.825953</td>\n",
       "      <td>34992.133508</td>\n",
       "      <td>-58486.00</td>\n",
       "      <td>59262.00</td>\n",
       "      <td>73479.00</td>\n",
       "      <td>88612.00</td>\n",
       "      <td>407228.00</td>\n",
       "    </tr>\n",
       "    <tr>\n",
       "      <th>CLV</th>\n",
       "      <td>405624.0</td>\n",
       "      <td>7991.976226</td>\n",
       "      <td>6863.663857</td>\n",
       "      <td>1898.01</td>\n",
       "      <td>3985.32</td>\n",
       "      <td>5776.34</td>\n",
       "      <td>8936.82</td>\n",
       "      <td>83325.38</td>\n",
       "    </tr>\n",
       "    <tr>\n",
       "      <th>Enrollment Year</th>\n",
       "      <td>405624.0</td>\n",
       "      <td>2015.252529</td>\n",
       "      <td>1.979427</td>\n",
       "      <td>2012.00</td>\n",
       "      <td>2014.00</td>\n",
       "      <td>2015.00</td>\n",
       "      <td>2017.00</td>\n",
       "      <td>2018.00</td>\n",
       "    </tr>\n",
       "    <tr>\n",
       "      <th>Enrollment Month</th>\n",
       "      <td>405624.0</td>\n",
       "      <td>6.668008</td>\n",
       "      <td>3.399766</td>\n",
       "      <td>1.00</td>\n",
       "      <td>4.00</td>\n",
       "      <td>7.00</td>\n",
       "      <td>10.00</td>\n",
       "      <td>12.00</td>\n",
       "    </tr>\n",
       "    <tr>\n",
       "      <th>Cancellation Year</th>\n",
       "      <td>50064.0</td>\n",
       "      <td>2016.499521</td>\n",
       "      <td>1.384336</td>\n",
       "      <td>2013.00</td>\n",
       "      <td>2016.00</td>\n",
       "      <td>2017.00</td>\n",
       "      <td>2018.00</td>\n",
       "      <td>2018.00</td>\n",
       "    </tr>\n",
       "    <tr>\n",
       "      <th>Cancellation Month</th>\n",
       "      <td>50064.0</td>\n",
       "      <td>6.966443</td>\n",
       "      <td>3.448300</td>\n",
       "      <td>1.00</td>\n",
       "      <td>4.00</td>\n",
       "      <td>7.00</td>\n",
       "      <td>10.00</td>\n",
       "      <td>12.00</td>\n",
       "    </tr>\n",
       "  </tbody>\n",
       "</table>\n",
       "</div>"
      ],
      "text/plain": [
       "                                count           mean            std  \\\n",
       "Loyalty Number               405624.0  550037.873084  258935.286969   \n",
       "Year                         405624.0    2017.500000       0.500001   \n",
       "Month                        405624.0       6.500000       3.452057   \n",
       "Flights Booked               405624.0       4.115052       5.225518   \n",
       "Flights with Companions      405624.0       1.031805       2.076869   \n",
       "Total Flights                405624.0       5.146858       6.521227   \n",
       "Distance                     405624.0    1208.880059    1433.155320   \n",
       "Points Accumulated           405624.0     123.692721     146.599831   \n",
       "Points Redeemed              405624.0      30.696872     125.486049   \n",
       "Dollar Cost Points Redeemed  405624.0       2.484503      10.150038   \n",
       "Salary                       302952.0   79268.825953   34992.133508   \n",
       "CLV                          405624.0    7991.976226    6863.663857   \n",
       "Enrollment Year              405624.0    2015.252529       1.979427   \n",
       "Enrollment Month             405624.0       6.668008       3.399766   \n",
       "Cancellation Year             50064.0    2016.499521       1.384336   \n",
       "Cancellation Month            50064.0       6.966443       3.448300   \n",
       "\n",
       "                                   min        25%        50%        75%  \\\n",
       "Loyalty Number               100018.00  326961.00  550834.00  772194.00   \n",
       "Year                           2017.00    2017.00    2017.50    2018.00   \n",
       "Month                             1.00       3.75       6.50       9.25   \n",
       "Flights Booked                    0.00       0.00       1.00       8.00   \n",
       "Flights with Companions           0.00       0.00       0.00       1.00   \n",
       "Total Flights                     0.00       0.00       1.00      10.00   \n",
       "Distance                          0.00       0.00     488.00    2336.00   \n",
       "Points Accumulated                0.00       0.00      50.00     239.00   \n",
       "Points Redeemed                   0.00       0.00       0.00       0.00   \n",
       "Dollar Cost Points Redeemed       0.00       0.00       0.00       0.00   \n",
       "Salary                       -58486.00   59262.00   73479.00   88612.00   \n",
       "CLV                            1898.01    3985.32    5776.34    8936.82   \n",
       "Enrollment Year                2012.00    2014.00    2015.00    2017.00   \n",
       "Enrollment Month                  1.00       4.00       7.00      10.00   \n",
       "Cancellation Year              2013.00    2016.00    2017.00    2018.00   \n",
       "Cancellation Month                1.00       4.00       7.00      10.00   \n",
       "\n",
       "                                   max  \n",
       "Loyalty Number               999986.00  \n",
       "Year                           2018.00  \n",
       "Month                            12.00  \n",
       "Flights Booked                   21.00  \n",
       "Flights with Companions          11.00  \n",
       "Total Flights                    32.00  \n",
       "Distance                       6293.00  \n",
       "Points Accumulated              676.50  \n",
       "Points Redeemed                 876.00  \n",
       "Dollar Cost Points Redeemed      71.00  \n",
       "Salary                       407228.00  \n",
       "CLV                           83325.38  \n",
       "Enrollment Year                2018.00  \n",
       "Enrollment Month                 12.00  \n",
       "Cancellation Year              2018.00  \n",
       "Cancellation Month               12.00  "
      ]
     },
     "metadata": {},
     "output_type": "display_data"
    },
    {
     "name": "stdout",
     "output_type": "stream",
     "text": [
      "________________________________________________________________________________________________________\n",
      "🌋Descripción de los datos no-numéricos:\n",
      "Columnas categóricas detectadas: ['Country', 'Province', 'City', 'Postal Code', 'Gender', 'Education', 'Marital Status', 'Loyalty Card', 'Enrollment Type']\n"
     ]
    },
    {
     "data": {
      "application/vnd.microsoft.datawrangler.viewer.v0+json": {
       "columns": [
        {
         "name": "index",
         "rawType": "object",
         "type": "string"
        },
        {
         "name": "count",
         "rawType": "object",
         "type": "unknown"
        },
        {
         "name": "unique",
         "rawType": "object",
         "type": "unknown"
        },
        {
         "name": "top",
         "rawType": "object",
         "type": "string"
        },
        {
         "name": "freq",
         "rawType": "object",
         "type": "unknown"
        }
       ],
       "ref": "30eac7d4-3541-4bc7-b5ca-4c9672c4acd8",
       "rows": [
        [
         "Country",
         "405624",
         "1",
         "Canada",
         "405624"
        ],
        [
         "Province",
         "405624",
         "11",
         "Ontario",
         "130896"
        ],
        [
         "City",
         "405624",
         "29",
         "Toronto",
         "81096"
        ],
        [
         "Postal Code",
         "405624",
         "55",
         "V6E 3D9",
         "21984"
        ],
        [
         "Gender",
         "405624",
         "2",
         "Female",
         "203640"
        ],
        [
         "Education",
         "405624",
         "5",
         "Bachelor",
         "253752"
        ],
        [
         "Marital Status",
         "405624",
         "3",
         "Married",
         "235800"
        ],
        [
         "Loyalty Card",
         "405624",
         "3",
         "Star",
         "184224"
        ],
        [
         "Enrollment Type",
         "405624",
         "2",
         "Standard",
         "382200"
        ]
       ],
       "shape": {
        "columns": 4,
        "rows": 9
       }
      },
      "text/html": [
       "<div>\n",
       "<style scoped>\n",
       "    .dataframe tbody tr th:only-of-type {\n",
       "        vertical-align: middle;\n",
       "    }\n",
       "\n",
       "    .dataframe tbody tr th {\n",
       "        vertical-align: top;\n",
       "    }\n",
       "\n",
       "    .dataframe thead th {\n",
       "        text-align: right;\n",
       "    }\n",
       "</style>\n",
       "<table border=\"1\" class=\"dataframe\">\n",
       "  <thead>\n",
       "    <tr style=\"text-align: right;\">\n",
       "      <th></th>\n",
       "      <th>count</th>\n",
       "      <th>unique</th>\n",
       "      <th>top</th>\n",
       "      <th>freq</th>\n",
       "    </tr>\n",
       "  </thead>\n",
       "  <tbody>\n",
       "    <tr>\n",
       "      <th>Country</th>\n",
       "      <td>405624</td>\n",
       "      <td>1</td>\n",
       "      <td>Canada</td>\n",
       "      <td>405624</td>\n",
       "    </tr>\n",
       "    <tr>\n",
       "      <th>Province</th>\n",
       "      <td>405624</td>\n",
       "      <td>11</td>\n",
       "      <td>Ontario</td>\n",
       "      <td>130896</td>\n",
       "    </tr>\n",
       "    <tr>\n",
       "      <th>City</th>\n",
       "      <td>405624</td>\n",
       "      <td>29</td>\n",
       "      <td>Toronto</td>\n",
       "      <td>81096</td>\n",
       "    </tr>\n",
       "    <tr>\n",
       "      <th>Postal Code</th>\n",
       "      <td>405624</td>\n",
       "      <td>55</td>\n",
       "      <td>V6E 3D9</td>\n",
       "      <td>21984</td>\n",
       "    </tr>\n",
       "    <tr>\n",
       "      <th>Gender</th>\n",
       "      <td>405624</td>\n",
       "      <td>2</td>\n",
       "      <td>Female</td>\n",
       "      <td>203640</td>\n",
       "    </tr>\n",
       "    <tr>\n",
       "      <th>Education</th>\n",
       "      <td>405624</td>\n",
       "      <td>5</td>\n",
       "      <td>Bachelor</td>\n",
       "      <td>253752</td>\n",
       "    </tr>\n",
       "    <tr>\n",
       "      <th>Marital Status</th>\n",
       "      <td>405624</td>\n",
       "      <td>3</td>\n",
       "      <td>Married</td>\n",
       "      <td>235800</td>\n",
       "    </tr>\n",
       "    <tr>\n",
       "      <th>Loyalty Card</th>\n",
       "      <td>405624</td>\n",
       "      <td>3</td>\n",
       "      <td>Star</td>\n",
       "      <td>184224</td>\n",
       "    </tr>\n",
       "    <tr>\n",
       "      <th>Enrollment Type</th>\n",
       "      <td>405624</td>\n",
       "      <td>2</td>\n",
       "      <td>Standard</td>\n",
       "      <td>382200</td>\n",
       "    </tr>\n",
       "  </tbody>\n",
       "</table>\n",
       "</div>"
      ],
      "text/plain": [
       "                  count unique       top    freq\n",
       "Country          405624      1    Canada  405624\n",
       "Province         405624     11   Ontario  130896\n",
       "City             405624     29   Toronto   81096\n",
       "Postal Code      405624     55   V6E 3D9   21984\n",
       "Gender           405624      2    Female  203640\n",
       "Education        405624      5  Bachelor  253752\n",
       "Marital Status   405624      3   Married  235800\n",
       "Loyalty Card     405624      3      Star  184224\n",
       "Enrollment Type  405624      2  Standard  382200"
      ]
     },
     "metadata": {},
     "output_type": "display_data"
    },
    {
     "name": "stdout",
     "output_type": "stream",
     "text": [
      "________________________________________________________________________________________________________\n",
      "🍂Saber si hay datos únicos:\n"
     ]
    },
    {
     "data": {
      "application/vnd.microsoft.datawrangler.viewer.v0+json": {
       "columns": [
        {
         "name": "index",
         "rawType": "object",
         "type": "string"
        },
        {
         "name": "0",
         "rawType": "int64",
         "type": "integer"
        }
       ],
       "ref": "0b7df586-7d2f-43a4-8475-2c87fcc801de",
       "rows": [
        [
         "Loyalty Number",
         "16737"
        ],
        [
         "Year",
         "2"
        ],
        [
         "Month",
         "12"
        ],
        [
         "Flights Booked",
         "22"
        ],
        [
         "Flights with Companions",
         "12"
        ],
        [
         "Total Flights",
         "33"
        ],
        [
         "Distance",
         "4746"
        ],
        [
         "Points Accumulated",
         "1549"
        ],
        [
         "Points Redeemed",
         "587"
        ],
        [
         "Dollar Cost Points Redeemed",
         "49"
        ],
        [
         "Country",
         "1"
        ],
        [
         "Province",
         "11"
        ],
        [
         "City",
         "29"
        ],
        [
         "Postal Code",
         "55"
        ],
        [
         "Gender",
         "2"
        ],
        [
         "Education",
         "5"
        ],
        [
         "Salary",
         "5890"
        ],
        [
         "Marital Status",
         "3"
        ],
        [
         "Loyalty Card",
         "3"
        ],
        [
         "CLV",
         "7984"
        ],
        [
         "Enrollment Type",
         "2"
        ],
        [
         "Enrollment Year",
         "7"
        ],
        [
         "Enrollment Month",
         "12"
        ],
        [
         "Cancellation Year",
         "6"
        ],
        [
         "Cancellation Month",
         "12"
        ]
       ],
       "shape": {
        "columns": 1,
        "rows": 25
       }
      },
      "text/plain": [
       "Loyalty Number                 16737\n",
       "Year                               2\n",
       "Month                             12\n",
       "Flights Booked                    22\n",
       "Flights with Companions           12\n",
       "Total Flights                     33\n",
       "Distance                        4746\n",
       "Points Accumulated              1549\n",
       "Points Redeemed                  587\n",
       "Dollar Cost Points Redeemed       49\n",
       "Country                            1\n",
       "Province                          11\n",
       "City                              29\n",
       "Postal Code                       55\n",
       "Gender                             2\n",
       "Education                          5\n",
       "Salary                          5890\n",
       "Marital Status                     3\n",
       "Loyalty Card                       3\n",
       "CLV                             7984\n",
       "Enrollment Type                    2\n",
       "Enrollment Year                    7\n",
       "Enrollment Month                  12\n",
       "Cancellation Year                  6\n",
       "Cancellation Month                12\n",
       "dtype: int64"
      ]
     },
     "metadata": {},
     "output_type": "display_data"
    },
    {
     "name": "stdout",
     "output_type": "stream",
     "text": [
      "________________________________________________________________________________________________________\n",
      "🐖Qué datos son nulos por columnas:\n"
     ]
    },
    {
     "data": {
      "application/vnd.microsoft.datawrangler.viewer.v0+json": {
       "columns": [
        {
         "name": "index",
         "rawType": "object",
         "type": "string"
        },
        {
         "name": "0",
         "rawType": "int64",
         "type": "integer"
        }
       ],
       "ref": "ae17f27a-f2f9-4411-82ee-73b08ed7cb52",
       "rows": [
        [
         "Loyalty Number",
         "0"
        ],
        [
         "Year",
         "0"
        ],
        [
         "Month",
         "0"
        ],
        [
         "Flights Booked",
         "0"
        ],
        [
         "Flights with Companions",
         "0"
        ],
        [
         "Total Flights",
         "0"
        ],
        [
         "Distance",
         "0"
        ],
        [
         "Points Accumulated",
         "0"
        ],
        [
         "Points Redeemed",
         "0"
        ],
        [
         "Dollar Cost Points Redeemed",
         "0"
        ],
        [
         "Country",
         "0"
        ],
        [
         "Province",
         "0"
        ],
        [
         "City",
         "0"
        ],
        [
         "Postal Code",
         "0"
        ],
        [
         "Gender",
         "0"
        ],
        [
         "Education",
         "0"
        ],
        [
         "Salary",
         "102672"
        ],
        [
         "Marital Status",
         "0"
        ],
        [
         "Loyalty Card",
         "0"
        ],
        [
         "CLV",
         "0"
        ],
        [
         "Enrollment Type",
         "0"
        ],
        [
         "Enrollment Year",
         "0"
        ],
        [
         "Enrollment Month",
         "0"
        ],
        [
         "Cancellation Year",
         "355560"
        ],
        [
         "Cancellation Month",
         "355560"
        ]
       ],
       "shape": {
        "columns": 1,
        "rows": 25
       }
      },
      "text/plain": [
       "Loyalty Number                      0\n",
       "Year                                0\n",
       "Month                               0\n",
       "Flights Booked                      0\n",
       "Flights with Companions             0\n",
       "Total Flights                       0\n",
       "Distance                            0\n",
       "Points Accumulated                  0\n",
       "Points Redeemed                     0\n",
       "Dollar Cost Points Redeemed         0\n",
       "Country                             0\n",
       "Province                            0\n",
       "City                                0\n",
       "Postal Code                         0\n",
       "Gender                              0\n",
       "Education                           0\n",
       "Salary                         102672\n",
       "Marital Status                      0\n",
       "Loyalty Card                        0\n",
       "CLV                                 0\n",
       "Enrollment Type                     0\n",
       "Enrollment Year                     0\n",
       "Enrollment Month                    0\n",
       "Cancellation Year              355560\n",
       "Cancellation Month             355560\n",
       "dtype: int64"
      ]
     },
     "metadata": {},
     "output_type": "display_data"
    },
    {
     "name": "stdout",
     "output_type": "stream",
     "text": [
      "________________________________________________________________________________________________________\n",
      "🐲Filas duplicadas:\n",
      "Cantidad de duplicados: 1864\n",
      "Primeros duplicados:\n"
     ]
    },
    {
     "data": {
      "application/vnd.microsoft.datawrangler.viewer.v0+json": {
       "columns": [
        {
         "name": "index",
         "rawType": "int64",
         "type": "integer"
        },
        {
         "name": "Loyalty Number",
         "rawType": "int64",
         "type": "integer"
        },
        {
         "name": "Year",
         "rawType": "int64",
         "type": "integer"
        },
        {
         "name": "Month",
         "rawType": "int64",
         "type": "integer"
        },
        {
         "name": "Flights Booked",
         "rawType": "int64",
         "type": "integer"
        },
        {
         "name": "Flights with Companions",
         "rawType": "int64",
         "type": "integer"
        },
        {
         "name": "Total Flights",
         "rawType": "int64",
         "type": "integer"
        },
        {
         "name": "Distance",
         "rawType": "int64",
         "type": "integer"
        },
        {
         "name": "Points Accumulated",
         "rawType": "float64",
         "type": "float"
        },
        {
         "name": "Points Redeemed",
         "rawType": "int64",
         "type": "integer"
        },
        {
         "name": "Dollar Cost Points Redeemed",
         "rawType": "int64",
         "type": "integer"
        },
        {
         "name": "Country",
         "rawType": "object",
         "type": "string"
        },
        {
         "name": "Province",
         "rawType": "object",
         "type": "string"
        },
        {
         "name": "City",
         "rawType": "object",
         "type": "string"
        },
        {
         "name": "Postal Code",
         "rawType": "object",
         "type": "string"
        },
        {
         "name": "Gender",
         "rawType": "object",
         "type": "string"
        },
        {
         "name": "Education",
         "rawType": "object",
         "type": "string"
        },
        {
         "name": "Salary",
         "rawType": "float64",
         "type": "float"
        },
        {
         "name": "Marital Status",
         "rawType": "object",
         "type": "string"
        },
        {
         "name": "Loyalty Card",
         "rawType": "object",
         "type": "string"
        },
        {
         "name": "CLV",
         "rawType": "float64",
         "type": "float"
        },
        {
         "name": "Enrollment Type",
         "rawType": "object",
         "type": "string"
        },
        {
         "name": "Enrollment Year",
         "rawType": "int64",
         "type": "integer"
        },
        {
         "name": "Enrollment Month",
         "rawType": "int64",
         "type": "integer"
        },
        {
         "name": "Cancellation Year",
         "rawType": "float64",
         "type": "float"
        },
        {
         "name": "Cancellation Month",
         "rawType": "float64",
         "type": "float"
        }
       ],
       "ref": "d0504990-422a-42d8-8c5b-0817632840ba",
       "rows": [
        [
         "121",
         "193662",
         "2017",
         "1",
         "0",
         "0",
         "0",
         "0",
         "0.0",
         "0",
         "0",
         "Canada",
         "Yukon",
         "Whitehorse",
         "Y2K 6R0",
         "Male",
         "Bachelor",
         "51124.0",
         "Married",
         "Star",
         "3844.57",
         "Standard",
         "2012",
         "5",
         null,
         null
        ],
        [
         "160",
         "193662",
         "2018",
         "8",
         "0",
         "0",
         "0",
         "0",
         "0.0",
         "0",
         "0",
         "Canada",
         "Yukon",
         "Whitehorse",
         "Y2K 6R0",
         "Male",
         "Bachelor",
         "51124.0",
         "Married",
         "Star",
         "3844.57",
         "Standard",
         "2012",
         "5",
         null,
         null
        ],
        [
         "165",
         "193662",
         "2018",
         "11",
         "0",
         "0",
         "0",
         "0",
         "0.0",
         "0",
         "0",
         "Canada",
         "Yukon",
         "Whitehorse",
         "Y2K 6R0",
         "Male",
         "Bachelor",
         "51124.0",
         "Married",
         "Star",
         "3844.57",
         "Standard",
         "2012",
         "5",
         null,
         null
        ]
       ],
       "shape": {
        "columns": 25,
        "rows": 3
       }
      },
      "text/html": [
       "<div>\n",
       "<style scoped>\n",
       "    .dataframe tbody tr th:only-of-type {\n",
       "        vertical-align: middle;\n",
       "    }\n",
       "\n",
       "    .dataframe tbody tr th {\n",
       "        vertical-align: top;\n",
       "    }\n",
       "\n",
       "    .dataframe thead th {\n",
       "        text-align: right;\n",
       "    }\n",
       "</style>\n",
       "<table border=\"1\" class=\"dataframe\">\n",
       "  <thead>\n",
       "    <tr style=\"text-align: right;\">\n",
       "      <th></th>\n",
       "      <th>Loyalty Number</th>\n",
       "      <th>Year</th>\n",
       "      <th>Month</th>\n",
       "      <th>Flights Booked</th>\n",
       "      <th>Flights with Companions</th>\n",
       "      <th>Total Flights</th>\n",
       "      <th>Distance</th>\n",
       "      <th>Points Accumulated</th>\n",
       "      <th>Points Redeemed</th>\n",
       "      <th>Dollar Cost Points Redeemed</th>\n",
       "      <th>Country</th>\n",
       "      <th>Province</th>\n",
       "      <th>City</th>\n",
       "      <th>Postal Code</th>\n",
       "      <th>Gender</th>\n",
       "      <th>Education</th>\n",
       "      <th>Salary</th>\n",
       "      <th>Marital Status</th>\n",
       "      <th>Loyalty Card</th>\n",
       "      <th>CLV</th>\n",
       "      <th>Enrollment Type</th>\n",
       "      <th>Enrollment Year</th>\n",
       "      <th>Enrollment Month</th>\n",
       "      <th>Cancellation Year</th>\n",
       "      <th>Cancellation Month</th>\n",
       "    </tr>\n",
       "  </thead>\n",
       "  <tbody>\n",
       "    <tr>\n",
       "      <th>121</th>\n",
       "      <td>193662</td>\n",
       "      <td>2017</td>\n",
       "      <td>1</td>\n",
       "      <td>0</td>\n",
       "      <td>0</td>\n",
       "      <td>0</td>\n",
       "      <td>0</td>\n",
       "      <td>0.0</td>\n",
       "      <td>0</td>\n",
       "      <td>0</td>\n",
       "      <td>Canada</td>\n",
       "      <td>Yukon</td>\n",
       "      <td>Whitehorse</td>\n",
       "      <td>Y2K 6R0</td>\n",
       "      <td>Male</td>\n",
       "      <td>Bachelor</td>\n",
       "      <td>51124.0</td>\n",
       "      <td>Married</td>\n",
       "      <td>Star</td>\n",
       "      <td>3844.57</td>\n",
       "      <td>Standard</td>\n",
       "      <td>2012</td>\n",
       "      <td>5</td>\n",
       "      <td>NaN</td>\n",
       "      <td>NaN</td>\n",
       "    </tr>\n",
       "    <tr>\n",
       "      <th>160</th>\n",
       "      <td>193662</td>\n",
       "      <td>2018</td>\n",
       "      <td>8</td>\n",
       "      <td>0</td>\n",
       "      <td>0</td>\n",
       "      <td>0</td>\n",
       "      <td>0</td>\n",
       "      <td>0.0</td>\n",
       "      <td>0</td>\n",
       "      <td>0</td>\n",
       "      <td>Canada</td>\n",
       "      <td>Yukon</td>\n",
       "      <td>Whitehorse</td>\n",
       "      <td>Y2K 6R0</td>\n",
       "      <td>Male</td>\n",
       "      <td>Bachelor</td>\n",
       "      <td>51124.0</td>\n",
       "      <td>Married</td>\n",
       "      <td>Star</td>\n",
       "      <td>3844.57</td>\n",
       "      <td>Standard</td>\n",
       "      <td>2012</td>\n",
       "      <td>5</td>\n",
       "      <td>NaN</td>\n",
       "      <td>NaN</td>\n",
       "    </tr>\n",
       "    <tr>\n",
       "      <th>165</th>\n",
       "      <td>193662</td>\n",
       "      <td>2018</td>\n",
       "      <td>11</td>\n",
       "      <td>0</td>\n",
       "      <td>0</td>\n",
       "      <td>0</td>\n",
       "      <td>0</td>\n",
       "      <td>0.0</td>\n",
       "      <td>0</td>\n",
       "      <td>0</td>\n",
       "      <td>Canada</td>\n",
       "      <td>Yukon</td>\n",
       "      <td>Whitehorse</td>\n",
       "      <td>Y2K 6R0</td>\n",
       "      <td>Male</td>\n",
       "      <td>Bachelor</td>\n",
       "      <td>51124.0</td>\n",
       "      <td>Married</td>\n",
       "      <td>Star</td>\n",
       "      <td>3844.57</td>\n",
       "      <td>Standard</td>\n",
       "      <td>2012</td>\n",
       "      <td>5</td>\n",
       "      <td>NaN</td>\n",
       "      <td>NaN</td>\n",
       "    </tr>\n",
       "  </tbody>\n",
       "</table>\n",
       "</div>"
      ],
      "text/plain": [
       "     Loyalty Number  Year  Month  Flights Booked  Flights with Companions  \\\n",
       "121          193662  2017      1               0                        0   \n",
       "160          193662  2018      8               0                        0   \n",
       "165          193662  2018     11               0                        0   \n",
       "\n",
       "     Total Flights  Distance  Points Accumulated  Points Redeemed  \\\n",
       "121              0         0                 0.0                0   \n",
       "160              0         0                 0.0                0   \n",
       "165              0         0                 0.0                0   \n",
       "\n",
       "     Dollar Cost Points Redeemed Country Province        City Postal Code  \\\n",
       "121                            0  Canada    Yukon  Whitehorse     Y2K 6R0   \n",
       "160                            0  Canada    Yukon  Whitehorse     Y2K 6R0   \n",
       "165                            0  Canada    Yukon  Whitehorse     Y2K 6R0   \n",
       "\n",
       "    Gender Education   Salary Marital Status Loyalty Card      CLV  \\\n",
       "121   Male  Bachelor  51124.0        Married         Star  3844.57   \n",
       "160   Male  Bachelor  51124.0        Married         Star  3844.57   \n",
       "165   Male  Bachelor  51124.0        Married         Star  3844.57   \n",
       "\n",
       "    Enrollment Type  Enrollment Year  Enrollment Month  Cancellation Year  \\\n",
       "121        Standard             2012                 5                NaN   \n",
       "160        Standard             2012                 5                NaN   \n",
       "165        Standard             2012                 5                NaN   \n",
       "\n",
       "     Cancellation Month  \n",
       "121                 NaN  \n",
       "160                 NaN  \n",
       "165                 NaN  "
      ]
     },
     "metadata": {},
     "output_type": "display_data"
    },
    {
     "name": "stdout",
     "output_type": "stream",
     "text": [
      "________________________________________________________________________________________________________\n",
      "🪹 Columnas constantes (solo 1 valor único):\n",
      "1 columnas con 1 valor único:\n"
     ]
    },
    {
     "data": {
      "text/plain": [
       "Index(['Country'], dtype='object')"
      ]
     },
     "metadata": {},
     "output_type": "display_data"
    },
    {
     "name": "stdout",
     "output_type": "stream",
     "text": [
      "________________________________________________________________________________________________________\n",
      "🚀 Valores únicos en columnas categóricas:\n",
      "🔸 Country\n",
      "-----------------------------\n",
      "['Canada']\n",
      "________________________________________________________________________________________________________\n",
      "🔸 Province\n",
      "-----------------------------\n",
      "['Ontario' 'Alberta' 'British Columbia' 'Quebec' 'Yukon' 'New Brunswick'\n",
      " 'Manitoba' 'Nova Scotia' 'Saskatchewan' 'Newfoundland'\n",
      " 'Prince Edward Island']\n",
      "________________________________________________________________________________________________________\n",
      "🔸 City\n",
      "-----------------------------\n",
      "['Toronto' 'Edmonton' 'Vancouver' 'Hull' 'Whitehorse' 'Trenton' 'Montreal'\n",
      " 'Dawson Creek' 'Quebec City' 'Fredericton' 'Ottawa' 'Tremblant' 'Calgary'\n",
      " 'Thunder Bay' 'Whistler' 'Peace River' 'Winnipeg' 'Sudbury'\n",
      " 'West Vancouver' 'Halifax' 'London' 'Regina' 'Kelowna' \"St. John's\"\n",
      " 'Victoria' 'Kingston' 'Banff' 'Moncton' 'Charlottetown']\n",
      "________________________________________________________________________________________________________\n",
      "🔸 Postal Code\n",
      "-----------------------------\n",
      "['M2Z 4K1' 'T3G 6Y6' 'V6E 3D9' 'P1W 1K4' 'J8Y 3Z5' 'Y2K 6R0' 'P5S 6R4'\n",
      " 'K8V 4B2' 'H2Y 2W2' 'M8Y 4K8' 'U5I 4F1' 'G1B 3L5' 'H4G 3T4' 'M2M 7K8'\n",
      " 'M2M 6J7' 'E3B 2H2' 'M1R 4K3' 'T9G 1W3' 'H2Y 4R4' 'V5R 1W3' 'P1L 8X8'\n",
      " 'K1F 2R2' 'H5Y 2S9' 'V1E 4R6' 'H2T 2J6' 'T3E 2V9' 'H2T 9K8' 'K8T 5M5'\n",
      " 'V6T 1Y8' 'P2T 6G3' 'T9O 2W2' 'V6E 3Z3' 'R6Y 4T5' 'M5V 1G5' 'V6V 8Z3'\n",
      " 'B3J 9S2' 'M5B 3E4' 'R2C 0M5' 'S6J 3G0' 'M2P 4F6' 'P1J 8T7' 'V09 2E9'\n",
      " 'A1C 6H9' 'V10 6T5' 'B3C 2M8' 'M9K 2P4' 'T4V 1D4' 'R3R 3T4' 'S1J 3C5'\n",
      " 'E1A 2A7' 'K1G 4Z0' 'H3T 8L4' 'C1A 6E8' 'H3J 5I6' 'M3R 4K8']\n",
      "________________________________________________________________________________________________________\n",
      "🔸 Gender\n",
      "-----------------------------\n",
      "['Female' 'Male']\n",
      "________________________________________________________________________________________________________\n",
      "🔸 Education\n",
      "-----------------------------\n",
      "['Bachelor' 'College' 'Master' 'High School or Below' 'Doctor']\n",
      "________________________________________________________________________________________________________\n",
      "🔸 Marital Status\n",
      "-----------------------------\n",
      "['Married' 'Divorced' 'Single']\n",
      "________________________________________________________________________________________________________\n",
      "🔸 Loyalty Card\n",
      "-----------------------------\n",
      "['Star' 'Aurora' 'Nova']\n",
      "________________________________________________________________________________________________________\n",
      "🔸 Enrollment Type\n",
      "-----------------------------\n",
      "['Standard' '2018 Promotion']\n",
      "________________________________________________________________________________________________________\n",
      "🧬 Tipos de datos por columna:\n"
     ]
    },
    {
     "data": {
      "application/vnd.microsoft.datawrangler.viewer.v0+json": {
       "columns": [
        {
         "name": "index",
         "rawType": "object",
         "type": "unknown"
        },
        {
         "name": "count",
         "rawType": "int64",
         "type": "integer"
        }
       ],
       "ref": "f7161956-d179-4bde-a444-71086b8254b0",
       "rows": [
        [
         "int64",
         "11"
        ],
        [
         "object",
         "9"
        ],
        [
         "float64",
         "5"
        ]
       ],
       "shape": {
        "columns": 1,
        "rows": 3
       }
      },
      "text/plain": [
       "int64      11\n",
       "object      9\n",
       "float64     5\n",
       "Name: count, dtype: int64"
      ]
     },
     "metadata": {},
     "output_type": "display_data"
    },
    {
     "name": "stdout",
     "output_type": "stream",
     "text": [
      "________________________________________________________________________________________________________\n"
     ]
    }
   ],
   "source": [
    "eda_basico(df)"
   ]
  },
  {
   "cell_type": "markdown",
   "id": "b7b26b58",
   "metadata": {},
   "source": [
    "### 1.2 Limpieza de Datos:"
   ]
  },
  {
   "cell_type": "markdown",
   "id": "cafabeec",
   "metadata": {},
   "source": [
    "observamos que los datos no necesitan ser estandarizados ya que todos se encuentran homogeneizados y con el formato adecuado.\n",
    "Sin embargo para un mejor entendimiento de los valores de Month, de cambiará el número de mes por nombre de mes. "
   ]
  },
  {
   "cell_type": "code",
   "execution_count": 42,
   "id": "ff053138",
   "metadata": {},
   "outputs": [],
   "source": [
    "# Modificamos la columna 'Month' para convertir los números en nombres de meses\n",
    "months = {\n",
    "    1: 'January',\n",
    "    2: 'February',\n",
    "    3: 'March',\n",
    "    4: 'April',\n",
    "    5: 'May',\n",
    "    6: 'June',\n",
    "    7: 'July',\n",
    "    8: 'August',\n",
    "    9: 'September',\n",
    "    10: 'October',\n",
    "    11: 'November',\n",
    "    12: 'December'\n",
    "}\n",
    "\n",
    "# Convertir columna month a nombre de mes\n",
    "df['Month'] = df['Month'].map(months)\n"
   ]
  },
  {
   "cell_type": "code",
   "execution_count": null,
   "id": "c2a08467",
   "metadata": {},
   "outputs": [],
   "source": [
    "df['Month'].head(10)  # Verificar los primeros 10 valores de la columna Month"
   ]
  },
  {
   "cell_type": "markdown",
   "id": "c1176c7e",
   "metadata": {},
   "source": [
    "#### Tratamiento de nulos"
   ]
  },
  {
   "cell_type": "markdown",
   "id": "10453949",
   "metadata": {},
   "source": [
    "observamos que las columnas con datos nulos sólo son 3 [Cancellation Month, Cancellation Year y Salary]. "
   ]
  },
  {
   "cell_type": "code",
   "execution_count": 17,
   "id": "1c475b9f",
   "metadata": {},
   "outputs": [],
   "source": [
    "# Eliminamos las columnas con gran cantidad de nulos y que no aportan valor\n",
    "df.drop(['Cancellation Month', 'Cancellation Year'], axis=1, inplace=True)"
   ]
  },
  {
   "cell_type": "code",
   "execution_count": 18,
   "id": "8435a0b4",
   "metadata": {},
   "outputs": [],
   "source": [
    "# Como Salary tiene datos negativos, aplicamos valor absoluto\n",
    "df['Salary'] = df['Salary'].abs()"
   ]
  },
  {
   "cell_type": "code",
   "execution_count": 23,
   "id": "76193890",
   "metadata": {},
   "outputs": [
    {
     "data": {
      "image/png": "[encoded data removed]",
      "text/plain": [
       "<Figure size 800x500 with 1 Axes>"
      ]
     },
     "metadata": {},
     "output_type": "display_data"
    }
   ],
   "source": [
    "# Visualizamoa la variable Salary para ver su distribución\n",
    "plt.figure(figsize=(8, 5))\n",
    "plt.hist(df['Salary'].dropna(), bins=30, color='lightcoral', edgecolor='black')\n",
    "plt.title('Histograma de salary')\n",
    "plt.xlabel('salary')\n",
    "plt.ylabel('Frecuencia')\n",
    "plt.show()\n"
   ]
  },
  {
   "cell_type": "markdown",
   "id": "cad1e614",
   "metadata": {},
   "source": [
    "Dado que el histograma muestra una distribción asimétrica hacia la derecha con valores extremos, se hace la imputación con la mediana por grupo educativo, ya que es más robusta que la media en estos casos, y al agrupar por Education, se respeta las diferencias salariales asociadas al nivel de estudios.\n",
    "Asimismo, no se usan métodos más avanzados debido a que el caso no requiere tanta complejidad."
   ]
  },
  {
   "cell_type": "code",
   "execution_count": 34,
   "id": "a98f06d7",
   "metadata": {},
   "outputs": [
    {
     "name": "stderr",
     "output_type": "stream",
     "text": [
      "C:\\Users\\eguin\\AppData\\Local\\Packages\\PythonSoftwareFoundation.Python.3.11_qbz5n2kfra8p0\\LocalCache\\local-packages\\Python311\\site-packages\\numpy\\lib\\_nanfunctions_impl.py:1215: RuntimeWarning: Mean of empty slice\n",
      "  return np.nanmean(a, axis, out=out, keepdims=keepdims)\n"
     ]
    }
   ],
   "source": [
    "# Imputamos los nulos de Salary con la mediana global por grupo de Education\n",
    "df['Salary'] = df.groupby('Education')['Salary'].transform(lambda x: x.fillna(x.median()))\n"
   ]
  },
  {
   "cell_type": "code",
   "execution_count": 40,
   "id": "3452e218",
   "metadata": {},
   "outputs": [],
   "source": [
    "# imputación global para los que quedaron fuera del grupo\n",
    "df['Salary'] = df['Salary'].fillna(df['Salary'].median())"
   ]
  },
  {
   "cell_type": "code",
   "execution_count": null,
   "id": "f2a26afe",
   "metadata": {},
   "outputs": [],
   "source": [
    "# Comprobamos si queda algún nulo\n",
    "df.isnull().sum()\n"
   ]
  },
  {
   "cell_type": "code",
   "execution_count": 32,
   "id": "0f7b52f1",
   "metadata": {},
   "outputs": [],
   "source": [
    "# se eliminan las columnas que no aportan valor al análisis\n",
    "df.drop(['Country', 'Enrollment Type', 'Enrollment Year', 'Enrollment Month', 'Postal Code', 'City','Dollar Cost Points Redeemed', 'CLV'],  axis=1, inplace=True, errors='ignore')"
   ]
  },
  {
   "cell_type": "code",
   "execution_count": 45,
   "id": "2eabebda",
   "metadata": {},
   "outputs": [],
   "source": [
    "# Finalmente guardamos el DataFrame limpio\n",
    "df.to_csv('Customer_Flight_Activity_Cleaned.csv')"
   ]
  },
  {
   "cell_type": "markdown",
   "id": "890dc31e",
   "metadata": {},
   "source": [
    "## Fase 2: Visualización"
   ]
  },
  {
   "cell_type": "markdown",
   "id": "4cada0f9",
   "metadata": {},
   "source": [
    "### 1.- ¿Cómo se distribuye la cantidad de vuelos reservados por mes durante el año?"
   ]
  },
  {
   "cell_type": "code",
   "execution_count": 66,
   "id": "9f4bc391",
   "metadata": {},
   "outputs": [],
   "source": [
    "df = pd.read_csv('Customer_Flight_Activity_Cleaned.csv')"
   ]
  },
  {
   "cell_type": "code",
   "execution_count": 68,
   "id": "adc6be8e",
   "metadata": {},
   "outputs": [
    {
     "name": "stderr",
     "output_type": "stream",
     "text": [
      "C:\\Users\\eguin\\AppData\\Local\\Temp\\ipykernel_31768\\1178977699.py:9: FutureWarning: The default of observed=False is deprecated and will be changed to True in a future version of pandas. Pass observed=False to retain current behavior or observed=True to adopt the future default and silence this warning.\n",
      "  monthly_flights = df.groupby(\"Month\")[\"Flights Booked\"].sum().reset_index()\n",
      "C:\\Users\\eguin\\AppData\\Local\\Temp\\ipykernel_31768\\1178977699.py:17: FutureWarning: \n",
      "\n",
      "Passing `palette` without assigning `hue` is deprecated and will be removed in v0.14.0. Assign the `x` variable to `hue` and set `legend=False` for the same effect.\n",
      "\n",
      "  sns.barplot(data=monthly_flights, x=\"Month\", y=\"Flights Booked\", palette=\"Blues_d\")\n"
     ]
    },
    {
     "name": "stdout",
     "output_type": "stream",
     "text": [
      "        Month  Flights Booked\n",
      "0     January           96936\n",
      "1    February           96334\n",
      "2       March          131199\n",
      "3       April          112511\n",
      "4         May          142170\n",
      "5        June          173242\n",
      "6        July          193431\n",
      "7      August          169204\n",
      "8   September          136379\n",
      "9     October          129461\n",
      "10   November          122250\n",
      "11   December          166047\n"
     ]
    },
    {
     "data": {
      "image/png": "[encoded data removed]",
      "text/plain": [
       "<Figure size 1000x600 with 1 Axes>"
      ]
     },
     "metadata": {},
     "output_type": "display_data"
    }
   ],
   "source": [
    "\n",
    "# Orden correcto\n",
    "orden_meses = [\"January\", \"February\", \"March\", \"April\", \"May\", \"June\",\n",
    "               \"July\", \"August\", \"September\", \"October\", \"November\", \"December\"]\n",
    "\n",
    "# Categoría ordenada\n",
    "df[\"Month\"] = pd.Categorical(df[\"Month\"], categories=orden_meses, ordered=True)\n",
    "\n",
    "# Agrupación\n",
    "monthly_flights = df.groupby(\"Month\")[\"Flights Booked\"].sum().reset_index()\n",
    "print(monthly_flights)\n",
    "\n",
    "# Gráfico\n",
    "import seaborn as sns\n",
    "import matplotlib.pyplot as plt\n",
    "\n",
    "plt.figure(figsize=(10, 6))\n",
    "sns.barplot(data=monthly_flights, x=\"Month\", y=\"Flights Booked\", palette=\"Blues_d\")\n",
    "plt.title(\"Cantidad total de vuelos reservados por mes\")\n",
    "plt.xlabel(\"Mes del año\")\n",
    "plt.ylabel(\"Vuelos reservados\")\n",
    "plt.xticks(rotation=45)\n",
    "plt.tight_layout()\n",
    "plt.show()\n"
   ]
  },
  {
   "cell_type": "markdown",
   "id": "ea5afd62",
   "metadata": {},
   "source": [
    "### 2. ¿Existe una relación entre la distancia de los vuelos y los puntos acumulados por los cliente?"
   ]
  },
  {
   "cell_type": "code",
   "execution_count": 69,
   "id": "0914b61f",
   "metadata": {},
   "outputs": [
    {
     "data": {
      "image/png": "[encoded data removed]",
      "text/plain": [
       "<Figure size 1000x600 with 1 Axes>"
      ]
     },
     "metadata": {},
     "output_type": "display_data"
    }
   ],
   "source": [
    "df[\"Distance\"] = pd.to_numeric(df[\"Distance\"], errors=\"coerce\")\n",
    "df[\"Points Accumulated\"] = pd.to_numeric(df[\"Points Accumulated\"], errors=\"coerce\")\n",
    "\n",
    "# Elimina filas con valores nulos en estas columnas\n",
    "df = df.dropna(subset=[\"Distance\", \"Points Accumulated\"])\n",
    "\n",
    "# Crear el gráfico de dispersión\n",
    "plt.figure(figsize=(10, 6))\n",
    "sns.scatterplot(data=df, x=\"Distance\", y=\"Points Accumulated\", alpha=0.6)\n",
    "plt.title(\"Relación entre distancia volada y puntos acumulados\")\n",
    "plt.xlabel(\"Distancia (km o millas)\")\n",
    "plt.ylabel(\"Puntos acumulados\")\n",
    "plt.tight_layout()\n",
    "plt.show()"
   ]
  },
  {
   "cell_type": "markdown",
   "id": "6e6d8b8c",
   "metadata": {},
   "source": [
    "### 3. ¿Cuál es la distribución de los clientes por provincia o estado?\n"
   ]
  },
  {
   "cell_type": "code",
   "execution_count": 70,
   "id": "79f75c3a",
   "metadata": {},
   "outputs": [
    {
     "name": "stderr",
     "output_type": "stream",
     "text": [
      "C:\\Users\\eguin\\AppData\\Local\\Temp\\ipykernel_31768\\3990544396.py:9: FutureWarning: \n",
      "\n",
      "Passing `palette` without assigning `hue` is deprecated and will be removed in v0.14.0. Assign the `x` variable to `hue` and set `legend=False` for the same effect.\n",
      "\n",
      "  sns.barplot(data=province_counts, x=\"Province\", y=\"Cantidad\", palette=\"viridis\")\n"
     ]
    },
    {
     "data": {
      "image/png": "[encoded data removed]",
      "text/plain": [
       "<Figure size 1200x600 with 1 Axes>"
      ]
     },
     "metadata": {},
     "output_type": "display_data"
    }
   ],
   "source": [
    "df[\"Province\"] = df[\"Province\"].astype(str).str.strip()\n",
    "\n",
    "# Contar número de clientes por provincia\n",
    "province_counts = df[\"Province\"].value_counts().reset_index()\n",
    "province_counts.columns = [\"Province\", \"Cantidad\"]\n",
    "\n",
    "# Graficar\n",
    "plt.figure(figsize=(12, 6))\n",
    "sns.barplot(data=province_counts, x=\"Province\", y=\"Cantidad\", palette=\"viridis\")\n",
    "\n",
    "plt.title(\"Distribución de clientes por provincia o estado\")\n",
    "plt.xlabel(\"Provincia o estado\")\n",
    "plt.ylabel(\"Cantidad de clientes\")\n",
    "plt.xticks(rotation=45)  # Gira etiquetas para que no se encimen\n",
    "plt.tight_layout()\n",
    "plt.show()\n",
    "\n"
   ]
  },
  {
   "cell_type": "markdown",
   "id": "a018b2c0",
   "metadata": {},
   "source": [
    "### 4. ¿Cómo se compara el salario promedio entre los diferentes niveles educativos de los clientes?\n"
   ]
  },
  {
   "cell_type": "code",
   "execution_count": 71,
   "id": "d40cd92c",
   "metadata": {},
   "outputs": [
    {
     "name": "stderr",
     "output_type": "stream",
     "text": [
      "C:\\Users\\eguin\\AppData\\Local\\Temp\\ipykernel_31768\\4020076874.py:3: FutureWarning: \n",
      "\n",
      "Passing `palette` without assigning `hue` is deprecated and will be removed in v0.14.0. Assign the `x` variable to `hue` and set `legend=False` for the same effect.\n",
      "\n",
      "  sns.barplot(data=df, x=\"Education\", y=\"Salary\", estimator=\"mean\", palette=\"Set2\")\n"
     ]
    },
    {
     "data": {
      "image/png": "[encoded data removed]",
      "text/plain": [
       "<Figure size 1000x600 with 1 Axes>"
      ]
     },
     "metadata": {},
     "output_type": "display_data"
    }
   ],
   "source": [
    "# Gráfico\n",
    "plt.figure(figsize=(10, 6))\n",
    "sns.barplot(data=df, x=\"Education\", y=\"Salary\", estimator=\"mean\", palette=\"Set2\")\n",
    "\n",
    "plt.title(\"Salario promedio por nivel educativo\")\n",
    "plt.xlabel(\"Nivel educativo\")\n",
    "plt.ylabel(\"Salario promedio\")\n",
    "plt.xticks(rotation=45)  # Por si hay nombres largos\n",
    "plt.tight_layout()\n",
    "plt.show()"
   ]
  },
  {
   "cell_type": "markdown",
   "id": "fcfead07",
   "metadata": {},
   "source": [
    "### 5. ¿Cuál es la proporción de clientes con diferentes tipos de tarjetas de fidelidad?\n"
   ]
  },
  {
   "cell_type": "code",
   "execution_count": 72,
   "id": "8234af8c",
   "metadata": {},
   "outputs": [
    {
     "data": {
      "image/png": "[encoded data removed]",
      "text/plain": [
       "<Figure size 600x600 with 1 Axes>"
      ]
     },
     "metadata": {},
     "output_type": "display_data"
    }
   ],
   "source": [
    "# Contar frecuencia de cada tipo de tarjeta\n",
    "card_counts = df[\"Loyalty Card\"].value_counts()\n",
    "\n",
    "# Graficar pie chart\n",
    "plt.figure(figsize=(6, 6))\n",
    "card_counts.plot.pie(autopct='%1.1f%%', startangle=90, cmap=\"Set3\")\n",
    "\n",
    "plt.title(\"Proporción de tipos de tarjetas de fidelidad\")\n",
    "plt.ylabel(\"\")  # Quitamos el texto del eje Y\n",
    "plt.tight_layout()\n",
    "plt.show()"
   ]
  },
  {
   "cell_type": "markdown",
   "id": "360b3883",
   "metadata": {},
   "source": [
    "### 6. ¿Cómo se distribuyen los clientes según su estado civil y género?"
   ]
  },
  {
   "cell_type": "code",
   "execution_count": 73,
   "id": "8dfa0a3b",
   "metadata": {},
   "outputs": [
    {
     "data": {
      "image/png": "[encoded data removed]",
      "text/plain": [
       "<Figure size 1000x600 with 1 Axes>"
      ]
     },
     "metadata": {},
     "output_type": "display_data"
    }
   ],
   "source": [
    "# Gráfico de barras agrupadas\n",
    "plt.figure(figsize=(10, 6))\n",
    "sns.countplot(data=df, x=\"Marital Status\", hue=\"Gender\", palette=\"pastel\")\n",
    "\n",
    "plt.title(\"Distribución de clientes por estado civil y género\")\n",
    "plt.xlabel(\"Estado civil\")\n",
    "plt.ylabel(\"Cantidad de clientes\")\n",
    "plt.legend(title=\"Género\")\n",
    "plt.tight_layout()\n",
    "plt.show()"
   ]
  },
  {
   "cell_type": "markdown",
   "id": "e3bc9bb7",
   "metadata": {},
   "source": [
    "### Bonus"
   ]
  },
  {
   "cell_type": "code",
   "execution_count": 74,
   "id": "350b6269",
   "metadata": {},
   "outputs": [],
   "source": [
    "# Filtrar solo las columnas necesarias\n",
    "edu_df = df[[\"Education\", \"Flights Booked\"]].dropna()\n",
    "\n",
    "# Asegurar que Flights Booked sea numérico\n",
    "edu_df[\"Flights Booked\"] = pd.to_numeric(edu_df[\"Flights Booked\"], errors=\"coerce\")"
   ]
  },
  {
   "cell_type": "code",
   "execution_count": 75,
   "id": "e48abcca",
   "metadata": {},
   "outputs": [
    {
     "name": "stdout",
     "output_type": "stream",
     "text": [
      "        Nivel educativo  Promedio de vuelos  Desviación estándar  \\\n",
      "0              Bachelor            4.091093             5.216995   \n",
      "1               College            4.153012             5.242136   \n",
      "2                Doctor            4.146281             5.250093   \n",
      "3  High School or Below            4.155777             5.234551   \n",
      "4                Master            4.184014             5.210294   \n",
      "\n",
      "   Cantidad de casos  \n",
      "0             253752  \n",
      "1             102672  \n",
      "2              17856  \n",
      "3              19008  \n",
      "4              12336  \n"
     ]
    }
   ],
   "source": [
    "# Agrupar por nivel educativo y calcular estadísticas\n",
    "edu_stats = edu_df.groupby(\"Education\")[\"Flights Booked\"].agg([\"mean\", \"std\", \"count\"]).reset_index()\n",
    "edu_stats.columns = [\"Nivel educativo\", \"Promedio de vuelos\", \"Desviación estándar\", \"Cantidad de casos\"]\n",
    "print(edu_stats)"
   ]
  },
  {
   "cell_type": "code",
   "execution_count": 76,
   "id": "b5312344",
   "metadata": {},
   "outputs": [
    {
     "name": "stdout",
     "output_type": "stream",
     "text": [
      "\n",
      "Estadístico F: 3.673\n",
      "Valor p: 0.0054\n",
      "✅ Hay diferencias significativas en los vuelos reservados entre los niveles educativos.\n"
     ]
    }
   ],
   "source": [
    "from scipy.stats import f_oneway\n",
    "\n",
    "# Agrupar en listas por nivel educativo\n",
    "grupos = [group[\"Flights Booked\"].values for name, group in edu_df.groupby(\"Education\")]\n",
    "\n",
    "# Ejecutar ANOVA\n",
    "f_stat, p_value = f_oneway(*grupos)\n",
    "\n",
    "print(f\"\\nEstadístico F: {f_stat:.3f}\")\n",
    "print(f\"Valor p: {p_value:.4f}\")\n",
    "\n",
    "if p_value < 0.05:\n",
    "    print(\"✅ Hay diferencias significativas en los vuelos reservados entre los niveles educativos.\")\n",
    "else:\n",
    "    print(\"❌ No hay diferencias significativas entre los niveles educativos.\")\n"
   ]
  },
  {
   "cell_type": "code",
   "execution_count": 77,
   "id": "8d276b48",
   "metadata": {},
   "outputs": [
    {
     "name": "stderr",
     "output_type": "stream",
     "text": [
      "C:\\Users\\eguin\\AppData\\Local\\Temp\\ipykernel_31768\\3591377916.py:2: FutureWarning: \n",
      "\n",
      "Passing `palette` without assigning `hue` is deprecated and will be removed in v0.14.0. Assign the `x` variable to `hue` and set `legend=False` for the same effect.\n",
      "\n",
      "  sns.boxplot(data=edu_df, x=\"Education\", y=\"Flights Booked\", palette=\"Set3\")\n"
     ]
    },
    {
     "data": {
      "image/png": "[encoded data removed]",
      "text/plain": [
       "<Figure size 1000x600 with 1 Axes>"
      ]
     },
     "metadata": {},
     "output_type": "display_data"
    }
   ],
   "source": [
    "plt.figure(figsize=(10, 6))\n",
    "sns.boxplot(data=edu_df, x=\"Education\", y=\"Flights Booked\", palette=\"Set3\")\n",
    "plt.title(\"Distribución de vuelos reservados por nivel educativo\")\n",
    "plt.xlabel(\"Nivel educativo\")\n",
    "plt.ylabel(\"Vuelos reservados\")\n",
    "plt.xticks(rotation=45)\n",
    "plt.tight_layout()\n",
    "plt.show()"
   ]
  }
 ],
 "metadata": {
  "kernelspec": {
   "display_name": "Python 3",
   "language": "python",
   "name": "python3"
  },
  "language_info": {
   "codemirror_mode": {
    "name": "ipython",
    "version": 3
   },
   "file_extension": ".py",
   "mimetype": "text/x-python",
   "name": "python",
   "nbconvert_exporter": "python",
   "pygments_lexer": "ipython3",
   "version": "3.11.9"
  }
 },
 "nbformat": 4,
 "nbformat_minor": 5
}
